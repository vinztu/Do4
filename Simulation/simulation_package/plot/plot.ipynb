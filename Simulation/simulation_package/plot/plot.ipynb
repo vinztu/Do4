{
 "cells": [
  {
   "cell_type": "code",
   "execution_count": 1,
   "id": "79634026-a7bf-4faf-86d6-2872ec271641",
   "metadata": {
    "tags": []
   },
   "outputs": [],
   "source": [
    "from os import listdir, mkdir\n",
    "from os.path import isdir\n",
    "\n",
    "from Plot_Parameters import PlotParameters\n",
    "from read_and_average_csv import read_and_average_csv\n",
    "from plot_full import plot_full\n",
    "from plot_single import plot_single"
   ]
  },
  {
   "cell_type": "code",
   "execution_count": 2,
   "id": "c946a30c-81e4-4b71-90e8-633ded265a52",
   "metadata": {},
   "outputs": [],
   "source": [
    "# specify the road network to plot the results\n",
    "road_network = \"Manhattan\""
   ]
  },
  {
   "cell_type": "code",
   "execution_count": 3,
   "id": "150d95e7",
   "metadata": {
    "tags": []
   },
   "outputs": [],
   "source": [
    "# define the width in the latex document such that later we do not have to scale \"by hand\"\n",
    "latex_width = 2000 # 469.75499 # \\textwidth in points\n",
    "\n",
    "# do not change (directory where all results are stored)\n",
    "complete_dir = f\"../../Simulation_Results/{road_network}/Results/\"\n",
    "\n",
    "# directory where plots will be saved and create a directory if it doesn't exist\n",
    "save_plot_dir = complete_dir + \"/\" + \"Plots\"\n",
    "if not isdir(save_plot_dir):\n",
    "    mkdir(save_plot_dir)\n",
    "    \n",
    "# Load all Plotting parameters\n",
    "params = PlotParameters(latex_width)\n",
    "\n",
    "# choose if save plots or not\n",
    "save_fig_info = {\"save\": False, \"save_legend\": False, \"save_dir\": save_plot_dir}"
   ]
  },
  {
   "cell_type": "code",
   "execution_count": 4,
   "id": "c0f211cb-f299-4832-bdf8-b046a85cae1b",
   "metadata": {
    "tags": []
   },
   "outputs": [],
   "source": [
    "df_single_entry, df_full_entries, meta_info = read_and_average_csv(complete_dir)"
   ]
  },
  {
   "cell_type": "code",
   "execution_count": 1,
   "id": "920bd576-96f7-4fc5-a79d-5ab754e7e605",
   "metadata": {
    "tags": []
   },
   "outputs": [],
   "source": [
    "# Plot df_single_entries\n",
    "plot_single(df_single_entry, meta_info, params, save_fig_info)"
   ]
  },
  {
   "cell_type": "code",
   "execution_count": 2,
   "id": "c43aeffe-8954-4231-8566-d63e50574d04",
   "metadata": {
    "tags": []
   },
   "outputs": [],
   "source": [
    "# Plot df_full_entries\n",
    "plot_full(df_full_entries, meta_info, params, save_fig_info)"
   ]
  },
  {
   "cell_type": "code",
   "execution_count": null,
   "id": "22f8bbae-d7c4-4268-a280-3083e2a00c8a",
   "metadata": {},
   "outputs": [],
   "source": []
  }
 ],
 "metadata": {
  "kernelspec": {
   "display_name": "Python 3 (ipykernel)",
   "language": "python",
   "name": "python3"
  },
  "language_info": {
   "codemirror_mode": {
    "name": "ipython",
    "version": 3
   },
   "file_extension": ".py",
   "mimetype": "text/x-python",
   "name": "python",
   "nbconvert_exporter": "python",
   "pygments_lexer": "ipython3",
   "version": "3.8.18"
  }
 },
 "nbformat": 4,
 "nbformat_minor": 5
}
