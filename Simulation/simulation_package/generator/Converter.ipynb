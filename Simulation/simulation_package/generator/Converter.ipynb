{
 "cells": [
  {
   "cell_type": "markdown",
   "id": "ebcae482-f0d6-45b4-9708-2d540766f8f6",
   "metadata": {},
   "source": [
    "# Converter\n",
    "#### Converts manhattan network (https://github.com/Chacha-Chen/MPLight/tree/master/data/manhattan) to \"our\" manhattan network (different road Names)\n",
    "#### Use Scaling_Flow.ipynb later to add/scale this flow\n",
    "#### This notebook might create some invalid flows due to roadnames (either ignore the warning during the simulation or manually adjust these flows)"
   ]
  },
  {
   "cell_type": "code",
   "execution_count": 1,
   "id": "9e442b81-99c5-4d54-84ee-bf12eaa5a0ed",
   "metadata": {
    "tags": []
   },
   "outputs": [],
   "source": [
    "import json\n",
    "from collections import defaultdict\n",
    "from converter_dict import converter"
   ]
  },
  {
   "cell_type": "code",
   "execution_count": 18,
   "id": "769365b5-d29d-487e-9aff-b73a031c34cc",
   "metadata": {
    "tags": []
   },
   "outputs": [
    {
     "name": "stdout",
     "output_type": "stream",
     "text": [
      "Done\n"
     ]
    }
   ],
   "source": [
    "def Converter()\n",
    "\n",
    "    dir_roadnet_file = \"../Simulation_Results/Manhattan/manhattan_7846.json\"\n",
    "\n",
    "    with open(dir_roadnet_file, \"r\") as jsonFile:\n",
    "        data = json.load(jsonFile)\n",
    "\n",
    "    vehicle_infos = defaultdict(list)\n",
    "    lastest_start_time = 0\n",
    "\n",
    "    new_data = []\n",
    "    filtered_lst = set()\n",
    "\n",
    "    for vehicle_flow in data:\n",
    "        check = False\n",
    "        start_index = 0\n",
    "        end_index = 0\n",
    "\n",
    "        for i, road in enumerate(vehicle_flow[\"route\"]):\n",
    "            if road in converter:\n",
    "\n",
    "                if not check:\n",
    "                    start_index = i\n",
    "\n",
    "                check = True\n",
    "                vehicle_flow[\"route\"][i] = converter[road]\n",
    "\n",
    "                end_index = i\n",
    "\n",
    "        if check:\n",
    "            vehicle_flow[\"route\"] = vehicle_flow[\"route\"][start_index:end_index+1]\n",
    "\n",
    "\n",
    "            vehicle_flow[\"route\"] = list(filter(lambda x: x.startswith(\"road\"), vehicle_flow[\"route\"]))\n",
    "\n",
    "            # filter out which roads are not yet \"translated\"\n",
    "            filtered_lst.update(set(filter(lambda x: not x.startswith('road'), vehicle_flow[\"route\"])))\n",
    "\n",
    "            new_data.append(vehicle_flow)\n",
    "\n",
    "\n",
    "    save_dir = \"../Simulation_Results/man/flow_NEW.json\"\n",
    "\n",
    "    # Write the modified data back to the file\n",
    "    with open(save_dir, \"w\") as jsonFile:\n",
    "        json.dump(new_data, jsonFile, indent=4)\n",
    "\n",
    "    print(\"Done\")\n",
    "    \n",
    "    \n",
    "Converter()"
   ]
  }
 ],
 "metadata": {
  "kernelspec": {
   "display_name": "Python 3 (ipykernel)",
   "language": "python",
   "name": "python3"
  },
  "language_info": {
   "codemirror_mode": {
    "name": "ipython",
    "version": 3
   },
   "file_extension": ".py",
   "mimetype": "text/x-python",
   "name": "python",
   "nbconvert_exporter": "python",
   "pygments_lexer": "ipython3",
   "version": "3.8.18"
  }
 },
 "nbformat": 4,
 "nbformat_minor": 5
}
