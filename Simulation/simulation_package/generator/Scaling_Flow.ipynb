{
 "cells": [
  {
   "cell_type": "markdown",
   "id": "2279e916-e58d-47e5-9e35-d90c8338cf8d",
   "metadata": {},
   "source": [
    "# Scales demand\n",
    "#### keeps all existing routes but creates more cars for each route by making the endTime later"
   ]
  },
  {
   "cell_type": "code",
   "execution_count": 1,
   "id": "afc3dce5-ddcc-41b7-8523-c160fec573a7",
   "metadata": {},
   "outputs": [],
   "source": [
    "import json"
   ]
  },
  {
   "cell_type": "code",
   "execution_count": 1,
   "id": "b743d5be-f157-4cae-8930-9018ea216cef",
   "metadata": {
    "tags": []
   },
   "outputs": [],
   "source": [
    "def Scaling(directory, new_directory, scaling_factor, select, range_scaling = None):\n",
    "    \n",
    "    # open the respective flow file\n",
    "    with open(directory, \"r\") as jsonFile:\n",
    "        flow_file = json.load(jsonFile)\n",
    "\n",
    "\n",
    "    # set endTime further back to allow for more generated cars\n",
    "    for i, flow in enumerate(flow_file):\n",
    "        \n",
    "        if i % select == 0:\n",
    "            interval = flow[\"interval\"]\n",
    "            startTime = flow[\"startTime\"]\n",
    "            endTime = flow[\"endTime\"]\n",
    "\n",
    "            if range_scaling is not None:\n",
    "                if startTime < range_scaling[0] or startTime > range_scaling[1]:\n",
    "                    continue\n",
    "\n",
    "            num_interval = (endTime - startTime + 1) // interval\n",
    "\n",
    "            mod_interval = (endTime - startTime + 1) % interval != 0\n",
    "\n",
    "            number_of_generated_cars = num_interval + mod_interval\n",
    "\n",
    "            new_number_of_generated_cars = number_of_generated_cars * scaling_factor\n",
    "\n",
    "            new_endTime = startTime + ((new_number_of_generated_cars - 1) * interval)\n",
    "\n",
    "            flow[\"endTime\"] = int(new_endTime)\n",
    "        \n",
    "        \n",
    "    \n",
    "    # Write the modified data back to the file\n",
    "    with open(new_directory, \"w\") as jsonFile:\n",
    "        json.dump(flow_file, jsonFile, indent=4)\n",
    "\n",
    "    print(\"Done\")\n",
    "    \n",
    "    \n",
    "directory = \"../Simulation_Results/man/flow.json\"\n",
    "new_directory = \"../Simulation_Results/man/scaled_flow.json\"\n",
    "\n",
    "scaling_factor = 2\n",
    "\n",
    "# only change every i-th vehicle flow\n",
    "select = 4\n",
    "\n",
    "# only scales vehicle flows that start within this interval\n",
    "range_scaling = None# (500, 1500) # if None, scales everything\n",
    "\n",
    "Scaling(directory, new_directory, scaling_factor, select, range_scaling)"
   ]
  },
  {
   "cell_type": "markdown",
   "id": "2a54aa6f-abd7-4ab0-9119-b627a41771c0",
   "metadata": {},
   "source": [
    "# Check distribution of flow file"
   ]
  },
  {
   "cell_type": "code",
   "execution_count": 1,
   "id": "ccab098d-ef87-47aa-a1c2-0979d192c75a",
   "metadata": {
    "tags": []
   },
   "outputs": [],
   "source": [
    "import json"
   ]
  },
  {
   "cell_type": "code",
   "execution_count": 2,
   "id": "6f16d9da-6b7e-49bf-9fc8-c3fcfec12755",
   "metadata": {
    "tags": []
   },
   "outputs": [],
   "source": [
    "flow_file = \"../../Simulation_Results/Manhattan/backup/flow.json\"\n",
    "new_flow_file = \"../../Simulation_Results/Manhattan/flow.json\"\n",
    "\n",
    "with open(flow_file, \"r\") as jsonFile:\n",
    "    flow_file = json.load(jsonFile)\n",
    "    \n",
    "with open(new_flow_file, \"r\") as jsonFile:\n",
    "    new_flow_file = json.load(jsonFile)"
   ]
  },
  {
   "cell_type": "code",
   "execution_count": 3,
   "id": "de53ac02-6c6e-4e71-b79b-0c4132a2a1e5",
   "metadata": {
    "tags": []
   },
   "outputs": [
    {
     "name": "stdout",
     "output_type": "stream",
     "text": [
      "Last Start Time is 3991\n",
      "Last Start Time is 3942\n"
     ]
    }
   ],
   "source": [
    "def analyze(flow_data):\n",
    "\n",
    "    vehicles = []\n",
    "\n",
    "    for flow in flow_data:\n",
    "\n",
    "        startTime = flow[\"startTime\"]\n",
    "        endTime = flow[\"endTime\"]\n",
    "        interval = flow[\"interval\"]\n",
    "        \n",
    "\n",
    "        num_interval = (endTime - startTime + 1) // interval\n",
    "\n",
    "        mod_interval = (endTime - startTime + 1) % interval != 0\n",
    "\n",
    "        number_of_generated_cars = int(num_interval + mod_interval)   \n",
    "        \n",
    "        old_length = len(vehicles)\n",
    "\n",
    "        for car_start in range(number_of_generated_cars):\n",
    "            vehicles.append(int(startTime + interval * car_start))\n",
    "            \n",
    "\n",
    "    print(f\"Last Start Time is {max(vehicles)}\")\n",
    "    \n",
    "    return vehicles\n",
    "\n",
    "\n",
    "flow_vehicles = analyze(flow_file)\n",
    "scaled_flow_vehicles = analyze(new_flow_file)"
   ]
  },
  {
   "cell_type": "code",
   "execution_count": 16,
   "id": "43166773-fb3a-429f-9f5a-5ecd7e14f3d7",
   "metadata": {
    "tags": []
   },
   "outputs": [
    {
     "data": {
      "image/png": "[encoded data removed]",
      "text/plain": [
       "<Figure size 1000x600 with 1 Axes>"
      ]
     },
     "metadata": {},
     "output_type": "display_data"
    }
   ],
   "source": [
    "import numpy as np\n",
    "import matplotlib.pyplot as plt\n",
    "\n",
    "def histogram(flow_vehicles, scaled_flow_vehicles):\n",
    "    # Define the bucket size\n",
    "    bucket_size = 500\n",
    "\n",
    "    # Calculate the number of bins based on the bucket size\n",
    "    num_bins = int((max(max(flow_vehicles), max(scaled_flow_vehicles)) + bucket_size) / bucket_size)\n",
    "\n",
    "    # calculate number of vehicles per hour\n",
    "    #vehicles_per_hour = len(np.array(flow_vehicles)[np.array(flow_vehicles) < 3600])\n",
    "    scaled_vehicles_per_hour = len(np.array(scaled_flow_vehicles)[np.array(scaled_flow_vehicles) < 3600])\n",
    "    \n",
    "    # Create figure and subplots\n",
    "    fig, ax = plt.subplots(figsize=(10, 6))\n",
    "\n",
    "    # Plotting histograms for Start_Time\n",
    "    #ax.hist(flow_vehicles, bins=num_bins, alpha=0.5, color='blue', label='Penn State Demand', edgecolor='black', linewidth=1.2)\n",
    "    ax.hist(scaled_flow_vehicles, bins=num_bins, alpha=0.5, label='New Demand', edgecolor='black', linewidth=1.2)\n",
    "    \n",
    "    ax.set_xlabel('Start_Time')\n",
    "    ax.set_ylabel('Frequency')\n",
    "    #ax.set_title(f'Histogram Comparison ({vehicles_per_hour} cars/h vs {scaled_vehicles_per_hour} cars/h)')\n",
    "    ax.set_title(f'{scaled_vehicles_per_hour} cars/h')\n",
    "    ax.grid(alpha=0.5)\n",
    "    \n",
    "    # Add a legend\n",
    "    ax.legend()\n",
    "\n",
    "    # Display the plot\n",
    "    plt.show()\n",
    "    \n",
    "    \n",
    "histogram(flow_vehicles, scaled_flow_vehicles)"
   ]
  },
  {
   "cell_type": "code",
   "execution_count": null,
   "id": "c93363d1-6599-40e3-bb5d-c5db7d378b2e",
   "metadata": {},
   "outputs": [],
   "source": []
  }
 ],
 "metadata": {
  "kernelspec": {
   "display_name": "Python 3 (ipykernel)",
   "language": "python",
   "name": "python3"
  },
  "language_info": {
   "codemirror_mode": {
    "name": "ipython",
    "version": 3
   },
   "file_extension": ".py",
   "mimetype": "text/x-python",
   "name": "python",
   "nbconvert_exporter": "python",
   "pygments_lexer": "ipython3",
   "version": "3.8.18"
  }
 },
 "nbformat": 4,
 "nbformat_minor": 5
}
