{
 "cells": [
  {
   "cell_type": "markdown",
   "id": "695c7be9-2455-4b41-89f4-af47ec89a8c0",
   "metadata": {},
   "source": [
    "# Define new phases in a roadnet file\n",
    "#### Suitable for different phase definitions for intersections"
   ]
  },
  {
   "cell_type": "code",
   "execution_count": 1,
   "id": "8ed91401-57e2-4e33-9115-7a3257e42448",
   "metadata": {
    "tags": []
   },
   "outputs": [],
   "source": [
    "import json"
   ]
  },
  {
   "cell_type": "code",
   "execution_count": 2,
   "id": "824451bc-8cd5-4626-a96f-214e838f260d",
   "metadata": {},
   "outputs": [],
   "source": [
    "def write_phases(all_phases, intersection_type):\n",
    "        \"\"\"\n",
    "        create list to match format of roadnet file\n",
    "        this implementation enables to set different phases for each intersection\n",
    "        \"\"\"\n",
    "        \n",
    "        phases_list = []\n",
    "        default_time = 10 # default time is set to 10 sec\n",
    "        \n",
    "        for phase_lanes in all_phases[intersection_type].values():\n",
    "            \n",
    "            phases_list.append({\"time\": default_time,\n",
    "                                \"availableRoadLinks\": phase_lanes\n",
    "                               }\n",
    "                              )\n",
    "        \n",
    "        \n",
    "        # This phase corresponds to the idle time (all tl are red)\n",
    "        phases_list.append({\"time\": default_time,\n",
    "                                \"availableRoadLinks\": []\n",
    "                               }\n",
    "                              )\n",
    "\n",
    "        return phases_list"
   ]
  },
  {
   "cell_type": "code",
   "execution_count": 3,
   "id": "e7f160a0-5b1c-4f1d-8280-c1962bb93f1c",
   "metadata": {},
   "outputs": [],
   "source": [
    "def read_and_write_roadnet(all_phases, dir_roadnet_file, combined_intersections):\n",
    "        \"\"\" Read the roadnet file and retrieve information\"\"\"\n",
    "        \n",
    "        all_intersections = []\n",
    "\n",
    "        with open(dir_roadnet_file, \"r\") as jsonFile:\n",
    "            data = json.load(jsonFile)\n",
    "            \n",
    "        for intersection in data[\"intersections\"]:\n",
    "            if (not intersection[\"virtual\"]):\n",
    "                \n",
    "                all_intersections.append(intersection[\"id\"])\n",
    "                \n",
    "                num_phases = len(intersection[\"roadLinks\"])\n",
    "                \n",
    "                # change road link indices\n",
    "                intersection[\"trafficLight\"][\"roadLinkIndices\"] = list(range(num_phases))\n",
    "                \n",
    "                # determine intersection type\n",
    "                if intersection[\"id\"] in combined_intersections[\"top_intersections\"]:\n",
    "                    intersection_type = \"top_intersection\"\n",
    "                \n",
    "                elif intersection[\"id\"] in combined_intersections[\"bottom_intersections\"]:\n",
    "                    intersection_type = \"bottom_intersection\"\n",
    "                \n",
    "                elif intersection[\"id\"] in combined_intersections[\"left_intersections\"]:\n",
    "                    intersection_type = \"left_intersection\"\n",
    "                \n",
    "                elif intersection[\"id\"] in combined_intersections[\"special_intersections\"]:\n",
    "                    intersection_type = intersection[\"id\"]\n",
    "                    \n",
    "                else:\n",
    "                    intersection_type = \"normal_intersection\"\n",
    "\n",
    "                \n",
    "                # change phase of roadnet file for \"intersection\"\n",
    "                intersection[\"trafficLight\"][\"lightphases\"] = write_phases(all_phases, intersection_type)\n",
    "                \n",
    "                \n",
    "              \n",
    "        # Write the modified data back to the file\n",
    "        with open(dir_roadnet_file, \"w\") as jsonFile:\n",
    "            json.dump(data, jsonFile, indent=4)\n",
    "        \n",
    "        print(\"Done\")\n",
    "        return all_intersections"
   ]
  },
  {
   "cell_type": "code",
   "execution_count": 4,
   "id": "e562adc6-f186-4f22-997b-421977b76f35",
   "metadata": {
    "tags": []
   },
   "outputs": [
    {
     "name": "stdout",
     "output_type": "stream",
     "text": [
      "Done\n"
     ]
    }
   ],
   "source": [
    "# Predefined phases\n",
    "normal_intersection = {0: [0, 7, 2, 3, 6, 10],\n",
    "                       1: [1, 8, 2, 3, 6, 10],\n",
    "                       2: [4, 11, 2, 3, 6, 10],\n",
    "                       3: [5, 9, 2, 3, 6, 10],\n",
    "                       4: [0, 1, 2, 3, 6, 10],\n",
    "                       5: [7, 8, 2, 3, 6, 10],\n",
    "                       6: [9, 11, 2, 3, 6, 10],\n",
    "                       7: [4, 5, 2, 3, 6, 10]\n",
    "                      }\n",
    "\n",
    "\n",
    "top_intersection = {0: [0, 3, 2, 5],\n",
    "                    1: [0, 1, 2, 5],\n",
    "                    2: [5, 2, 4]\n",
    "                   }\n",
    "\n",
    "bottom_intersection = {0: [0, 4, 1, 2],\n",
    "                       1: [4, 5, 1, 2],\n",
    "                       2: [3, 1, 2]\n",
    "                      }\n",
    "\n",
    "\n",
    "left_intersection = {0: [2, 5, 1, 4],\n",
    "                     1: [2, 3, 1, 4],\n",
    "                     2: [0, 1, 4]\n",
    "                    }\n",
    "\n",
    "intersection_16_9 = {0: [0, 4, 2, 3, 7], # l - r \n",
    "                     1: [1, 5, 2, 3, 7], # l_u, r_d\n",
    "                     2: [6, 8, 2, 3, 7], # top ->\n",
    "                     3: [0, 1, 2, 3, 7], # left ->\n",
    "                     4: [4, 5, 2, 3, 7]  # right ->\n",
    "                    }\n",
    "\n",
    "intersection_17_9 = {0: [0, 6, 2, 5, 8], # l - r\n",
    "                     1: [4, 7, 2, 5, 8], # t_r, b_l\n",
    "                     2: [0, 1, 2, 5, 8], # left ->\n",
    "                     3: [3, 4, 2, 5, 8]  # bottom ->\n",
    "                    }\n",
    "                         \n",
    "                         \n",
    "intersection_16_6 = {0: [0, 4, 1, 2, 7], # l - r\n",
    "                     1: [3, 6, 1, 2, 7], # t_r, b_l\n",
    "                     2: [4, 5, 1, 2, 7], # right ->\n",
    "                     3: [6, 8, 1, 2, 7], # top ->\n",
    "                    }\n",
    "\n",
    "intersection_17_6 = {0: [0, 7, 2, 3, 6], # l - r\n",
    "                     1: [1, 8, 2, 3, 6], # l_u, r_d\n",
    "                     2: [4, 5, 2, 3, 6], # bottom\n",
    "                     3: [0, 1, 2, 3, 6], # left\n",
    "                     4: [7, 8, 2, 3 ,6], # right\n",
    "                    }\n",
    "\n",
    "\n",
    "all_phases = {\n",
    "    \"normal_intersection\": normal_intersection,\n",
    "    \"top_intersection\": top_intersection,\n",
    "    \"bottom_intersection\": bottom_intersection,\n",
    "    \"left_intersection\": left_intersection,\n",
    "    \"intersection_16_9\": intersection_16_9,\n",
    "    \"intersection_17_9\": intersection_17_9,\n",
    "    \"intersection_16_6\": intersection_16_6,\n",
    "    \"intersection_17_6\": intersection_17_6\n",
    "}\n",
    "\n",
    "\n",
    "top_intersections = {f\"intersection_{i}_9\" for i in range(11, 30) if i not in {16, 17}}\n",
    "bottom_intersections = {f\"intersection_{i}_6\" for i in range(11, 30) if i not in {16, 17}}\n",
    "left_intersections = {\"intersection_10_7\", \"intersection_10_8\"}\n",
    "special_intersections = {\"intersection_16_9\", \"intersection_17_9\", \"intersection_16_6\", \"intersection_17_6\"}\n",
    "\n",
    "combined_intersections = {\n",
    "    \"top_intersections\": top_intersections,\n",
    "    \"bottom_intersections\": bottom_intersections,\n",
    "    \"left_intersections\": left_intersections,\n",
    "    \"special_intersections\": special_intersections\n",
    "}\n",
    "\n",
    "all_intersections = read_and_write_roadnet(all_phases, \"../Simulation_Results/Manhattan/roadnet.json\", combined_intersections)"
   ]
  },
  {
   "cell_type": "markdown",
   "id": "0e6fe64b-6192-450c-a195-3c51ae95ea5b",
   "metadata": {},
   "source": [
    "# Test out all phases in a round-robin way"
   ]
  },
  {
   "cell_type": "code",
   "execution_count": 5,
   "id": "f7b6f68e-85ef-4486-be54-6b7254e8cd87",
   "metadata": {
    "tags": []
   },
   "outputs": [],
   "source": [
    "import cityflow\n",
    "import numpy as np"
   ]
  },
  {
   "cell_type": "code",
   "execution_count": 6,
   "id": "0eb05362-5f4f-424e-bdff-1d7e1b374cca",
   "metadata": {
    "tags": []
   },
   "outputs": [],
   "source": [
    "# start sim engine\n",
    "config_path = '../Simulation_Results/Manhattan/config.json'\n",
    "eng = cityflow.Engine(config_path, thread_num=1)\n",
    "eng.reset()"
   ]
  },
  {
   "cell_type": "code",
   "execution_count": 7,
   "id": "0708e777-cb10-4983-ada0-42478e5b5fae",
   "metadata": {
    "tags": []
   },
   "outputs": [],
   "source": [
    "# sim for 100 time steps\n",
    "n_step = 4000\n",
    "\n",
    "counter = 0\n",
    "    \n",
    "for i in range(n_step):\n",
    "        \n",
    "    if i % 10 == 0:\n",
    "        for intersection in all_intersections:\n",
    "            if intersection in top_intersections:\n",
    "                active_phase = counter % (len(all_phases[\"top_intersection\"]) + 1)\n",
    "            \n",
    "            elif intersection in bottom_intersections:\n",
    "                active_phase = counter % (len(all_phases[\"bottom_intersection\"]) + 1)\n",
    "                \n",
    "            elif intersection in left_intersections:\n",
    "                active_phase = counter % (len(all_phases[\"left_intersection\"]) + 1)\n",
    "            \n",
    "            elif intersection in special_intersections:\n",
    "                active_phase = counter % (len(all_phases[intersection]) + 1)\n",
    "                \n",
    "            else:\n",
    "                active_phase = counter % (len(all_phases[\"normal_intersection\"]) + 1)\n",
    "            \n",
    "            \n",
    "            eng.set_tl_phase(intersection, active_phase)\n",
    "        \n",
    "        counter += 1\n",
    "        \n",
    "    eng.next_step()\n",
    "    "
   ]
  }
 ],
 "metadata": {
  "kernelspec": {
   "display_name": "Python 3 (ipykernel)",
   "language": "python",
   "name": "python3"
  },
  "language_info": {
   "codemirror_mode": {
    "name": "ipython",
    "version": 3
   },
   "file_extension": ".py",
   "mimetype": "text/x-python",
   "name": "python",
   "nbconvert_exporter": "python",
   "pygments_lexer": "ipython3",
   "version": "3.8.18"
  }
 },
 "nbformat": 4,
 "nbformat_minor": 5
}
