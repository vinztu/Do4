{
 "cells": [
  {
   "cell_type": "markdown",
   "id": "7b4b5463-cda5-46ac-96bf-9a41f96902c9",
   "metadata": {},
   "source": [
    "# Generates a capacity.json file based on the roadnet file\n",
    "#### <span style=\"color:red\">Copy this notebook to the Simulation folder (needed for imported functions)</span>"
   ]
  },
  {
   "cell_type": "code",
   "execution_count": 1,
   "id": "68f5df76-f709-4109-9c31-3de041f37ae3",
   "metadata": {
    "tags": []
   },
   "outputs": [],
   "source": [
    "import json\n",
    "import numpy as np\n",
    "from simulation_package.helper.Simulation_class import Simulation\n",
    "from simulation_package.parameter_loader import load_parameters\n",
    "from simulation_package.helper.initialization import initialize"
   ]
  },
  {
   "cell_type": "code",
   "execution_count": 2,
   "id": "50bc2670-76fb-4bff-841d-1508e48765ba",
   "metadata": {
    "tags": []
   },
   "outputs": [
    {
     "name": "stderr",
     "output_type": "stream",
     "text": [
      "2024-03-12 20:50:11,577\tINFO worker.py:1715 -- Started a local Ray instance. View the dashboard at \u001b[1m\u001b[32mhttp://127.0.0.1:8265 \u001b[39m\u001b[22m\n"
     ]
    },
    {
     "name": "stdout",
     "output_type": "stream",
     "text": [
      "This cluster consists of\n",
      "                1 nodes in total\n",
      "                8.0 CPU resources in total\n",
      "            \n"
     ]
    }
   ],
   "source": [
    "road_network = \"Manhattan\"\n",
    "ext_dict = {}\n",
    "algorithm = \"MP\"\n",
    "write_phase_to_json = False  \n",
    "params = load_parameters(algorithm, road_network, ext_dict)\n",
    "sim = Simulation(params, algorithm, write_phase_to_json)\n",
    "initialize(sim, False)"
   ]
  },
  {
   "cell_type": "code",
   "execution_count": 3,
   "id": "f692ea37-0ccc-4d10-a303-fde480593586",
   "metadata": {
    "tags": []
   },
   "outputs": [],
   "source": [
    "roadnet_file = \"Simulation_Results/Manhattan/roadnet.json\"\n",
    "save_file = \"capacities.json\"\n",
    "\n",
    "# Load the data from the JSON files\n",
    "with open(roadnet_file) as f:\n",
    "    data = json.load(f)\n",
    "\n",
    "# THE NUMBER OF CARS ON EACH LANE SEEMS SMALL, BUT HAS BEEN COUNTED DIRECTLY DURING A SIMULATION IN THE FRONTEND/INDEX.HTML\n",
    "# THE REASON IS THAT THE INTERSECTION HAS A WIDTH ITSELF (30 M IN THIS CASE) THAT REDUCES THE ACTUAL SPACE FOR VEHICLES ON LANE\n",
    "conversion = {\n",
    "    100: 6, # 100 meter --> max capacity for 6 cars \n",
    "    150: 12,\n",
    "    270: 28,\n",
    "    810: 89\n",
    "    \n",
    "}\n",
    "\n",
    "capacities = {}\n",
    "\n",
    "for road in data[\"roads\"]:\n",
    "    points = road[\"points\"]\n",
    "    delta_x = np.abs(points[0][\"x\"] - points[1][\"x\"])\n",
    "    delta_y = np.abs(points[0][\"y\"] - points[1][\"y\"])\n",
    "    \n",
    "    difference = max(delta_x, delta_y)\n",
    "    \n",
    "    road_capacity = conversion[difference] + 12\n",
    "    \n",
    "    # find all lanes\n",
    "    all_lanes = [lane for lane in sim.lanes_data if lane.startswith(road[\"id\"])]\n",
    "    \n",
    "    for lane in all_lanes:\n",
    "        capacities[lane] = road_capacity\n",
    "        \n",
    "\n",
    "# Open a file in write mode\n",
    "with open(save_file, 'w') as f:\n",
    "    # Write the dictionary to the file with an indent size of 4\n",
    "    json.dump(capacities, f, indent=4)\n",
    "    \n",
    "    "
   ]
  },
  {
   "cell_type": "code",
   "execution_count": null,
   "id": "51baadbd-b9dd-4ad2-9d53-b86ef9fe19df",
   "metadata": {},
   "outputs": [],
   "source": []
  }
 ],
 "metadata": {
  "kernelspec": {
   "display_name": "Python 3 (ipykernel)",
   "language": "python",
   "name": "python3"
  },
  "language_info": {
   "codemirror_mode": {
    "name": "ipython",
    "version": 3
   },
   "file_extension": ".py",
   "mimetype": "text/x-python",
   "name": "python",
   "nbconvert_exporter": "python",
   "pygments_lexer": "ipython3",
   "version": "3.8.18"
  }
 },
 "nbformat": 4,
 "nbformat_minor": 5
}
