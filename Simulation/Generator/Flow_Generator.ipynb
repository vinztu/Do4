{
 "cells": [
  {
   "cell_type": "code",
   "execution_count": 1,
   "id": "bb265b65-0f8c-47be-8a52-41a8383c944b",
   "metadata": {
    "tags": []
   },
   "outputs": [],
   "source": [
    "# add the root to sys.path\n",
    "import sys\n",
    "sys.path.append('/Users/vinz/Documents/ETH/Do4/Simulation')\n",
    "\n",
    "from Generator.read_roadmap import read_roadmap\n",
    "from Generator.write_json import write_json_flow_file\n",
    "\n",
    "from collections import Counter"
   ]
  },
  {
   "cell_type": "code",
   "execution_count": 2,
   "id": "8f1932ca-9b67-44b6-88e1-08de76a1c923",
   "metadata": {},
   "outputs": [],
   "source": [
    "def main(subdirect, random_routes, random_vehicle_parameters):\n",
    "    \n",
    "    Road_map_Json = f\"../CityFlow/examples/{subdirect}/roadnet.json\"\n",
    "    Dir_FlowFile_Json = f\"../CityFlow/examples/{subdirect}/\"\n",
    "    FlowFile_Json = \"flow.json\"\n",
    "    \n",
    "    # if we want inflow / outflow from specific lanes, we can just overwrite roads_IN and roads_OUT\n",
    "    roads_IN, roads_OUT, road_adj_to_IN = read_roadmap(Road_map_Json)\n",
    "    \n",
    "    # \"Fixed\" or random vehicle routes (e.g. main and side roads)\n",
    "    # ratio: what percentage [0,1] of all possible inflow-outflow combinations will have vehicles\n",
    "    # effective_interval: what is the effective interval between 2 vehicles on a road (even with multiple routes starting from the same road)\n",
    "    if random_routes:\n",
    "        # what percentage [0,1] of all possible inflow and outflow combinations will be considered\n",
    "        parameters = {\n",
    "            \"traffic_ratio\": 0.6,\n",
    "            \"interval\": 50.0\n",
    "        }\n",
    "    else:\n",
    "        main_roads = {\"road_0_1_0\", \"road_1_1_2\", \"road_4_1_0\", \"road_5_1_2\"}\n",
    "        parameters = {\n",
    "            \"main_roads\": main_roads,\n",
    "            # the remaining roads are side roads\n",
    "            \"side_roads\": roads_IN.union(roads_OUT).difference(main_roads),\n",
    "            \"mtm\": {\"ratio\": 0.8, \"effective_interval\": 3},\n",
    "            \"mts\": {\"ratio\": 0, \"effective_interval\": 3},\n",
    "            \"sts\": {\"ratio\": 0.7, \"effective_interval\": 15},\n",
    "            \"stm\": {\"ratio\": 0, \"effective_interval\": 15}\n",
    "        }\n",
    "        \n",
    "            \n",
    "\n",
    "    \n",
    "    # Fixed or random vehicle parameters\n",
    "    if random_vehicle_parameters:\n",
    "        write_json_flow_file(\n",
    "            vehLen =  5.0,\n",
    "            vehWidth =  2.0,\n",
    "            vehMaxPosAcc = 3.0,\n",
    "            vehMaxNegAcc = 4.5,\n",
    "            vehUsualPosAcc = 2.0,\n",
    "            vehUsualNegAcc = 3.5,\n",
    "            vehMinGap = 2.5, # 2.5\n",
    "            vehMaxSpeed =  16.67,\n",
    "            vehHeadwayTime = 10,\n",
    "            parameters = parameters,\n",
    "            roads_IN = roads_IN,\n",
    "            roads_OUT = roads_OUT,\n",
    "            road_adj_to_IN = road_adj_to_IN,\n",
    "            directory = Dir_FlowFile_Json,\n",
    "            FlowFile = FlowFile_Json,\n",
    "            random_routes = random_routes,\n",
    "            random_vehicle_parameters = random_vehicle_parameters\n",
    "        )\n",
    "        \n",
    "    else:\n",
    "        write_json_flow_file(\n",
    "            vehLen =  5,\n",
    "            vehWidth =  2,\n",
    "            roads_IN = roads_IN,\n",
    "            roads_OUT = roads_OUT,\n",
    "            road_adj_to_IN = road_adj_to_IN,\n",
    "            parameters = parameters,\n",
    "            directory = Dir_FlowFile_Json,\n",
    "            FlowFile = FlowFile_Json,\n",
    "            random_routes = random_routes,\n",
    "            random_vehicle_parameters = random_vehicle_parameters\n",
    "        )\n",
    "            "
   ]
  },
  {
   "cell_type": "code",
   "execution_count": 3,
   "id": "2b4cb628-49ad-4e2f-9c8a-c430b500e8af",
   "metadata": {
    "tags": []
   },
   "outputs": [
    {
     "name": "stdout",
     "output_type": "stream",
     "text": [
      "Successful created a flow file!\n"
     ]
    }
   ],
   "source": [
    "if __name__ == \"__main__\":\n",
    "    \n",
    "    # random vehicle routes\n",
    "    random_routes = False\n",
    "    \n",
    "    # random vehicle parameters\n",
    "    random_vehicle_parameters = False\n",
    "    \n",
    "    # sub directory of the roadnet file\n",
    "    subdirect = \"1_4\"\n",
    "    \n",
    "    main(subdirect, random_routes, random_vehicle_parameters)"
   ]
  },
  {
   "cell_type": "code",
   "execution_count": null,
   "id": "64861ed8-aad5-422e-bd9e-25d859e27ea3",
   "metadata": {},
   "outputs": [],
   "source": []
  }
 ],
 "metadata": {
  "kernelspec": {
   "display_name": "Python 3 (ipykernel)",
   "language": "python",
   "name": "python3"
  },
  "language_info": {
   "codemirror_mode": {
    "name": "ipython",
    "version": 3
   },
   "file_extension": ".py",
   "mimetype": "text/x-python",
   "name": "python",
   "nbconvert_exporter": "python",
   "pygments_lexer": "ipython3",
   "version": "3.8.18"
  }
 },
 "nbformat": 4,
 "nbformat_minor": 5
}
