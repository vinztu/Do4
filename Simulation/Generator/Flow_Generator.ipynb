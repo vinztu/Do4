{
 "cells": [
  {
   "cell_type": "code",
   "execution_count": 1,
   "id": "bb265b65-0f8c-47be-8a52-41a8383c944b",
   "metadata": {
    "tags": []
   },
   "outputs": [],
   "source": [
    "# add the root to sys.path\n",
    "import sys\n",
    "sys.path.append('/Users/vinz/Documents/ETH/Do4/Simulation')\n",
    "\n",
    "from generator.read_roadmap import read_roadmap\n",
    "from generator.write_json import write_json_flow_file\n",
    "\n",
    "from collections import Counter"
   ]
  },
  {
   "cell_type": "code",
   "execution_count": 2,
   "id": "8f1932ca-9b67-44b6-88e1-08de76a1c923",
   "metadata": {},
   "outputs": [],
   "source": [
    "def main(subdirect, random_routes, random_vehicle_parameters):\n",
    "    \n",
    "    Road_map_Json = f\"../Simulation_Results/{subdirect}/roadnet.json\"\n",
    "    Dir_FlowFile_Json = f\"../Simulation_Results/{subdirect}/\"\n",
    "    FlowFile_Json = \"flow.json\"\n",
    "    \n",
    "    # if we want inflow / outflow from specific lanes, we can just overwrite roads_IN and roads_OUT\n",
    "    roads_IN, roads_OUT, road_adj_to_IN = read_roadmap(Road_map_Json)\n",
    "    \n",
    "    # \"Fixed\" or random vehicle routes (e.g. main and side roads)\n",
    "    # ratio: what percentage [0,1] of all possible inflow-outflow combinations will have vehicles\n",
    "    # effective_interval: what is the effective interval between 2 vehicles on a road (even with multiple routes starting from the same road)\n",
    "    if random_routes:\n",
    "        # what percentage [0,1] of all possible inflow and outflow combinations will be considered\n",
    "        parameters = {\n",
    "            \"traffic_ratio\": 0.6,\n",
    "            \"interval\": 50.0\n",
    "        }\n",
    "    else:\n",
    "        main_roads = {\"road_0_1_0\", \"road_1_1_2\", \"road_4_1_0\", \"road_5_1_2\"}\n",
    "        parameters = {\n",
    "            \"main_roads\": main_roads,\n",
    "            # the remaining roads are side roads\n",
    "            \"side_roads\": roads_IN.union(roads_OUT).difference(main_roads),\n",
    "            \"mtm\": {\"ratio\": 0.8, \"effective_interval\": 3},\n",
    "            \"mts\": {\"ratio\": 0, \"effective_interval\": 3},\n",
    "            \"sts\": {\"ratio\": 0.7, \"effective_interval\": 15},\n",
    "            \"stm\": {\"ratio\": 0, \"effective_interval\": 15}\n",
    "        }\n",
    "        \n",
    "            \n",
    "\n",
    "    \n",
    "    # Fixed or random vehicle parameters\n",
    "    if random_vehicle_parameters:\n",
    "        write_json_flow_file(\n",
    "            vehLen =  5.0,\n",
    "            vehWidth =  2.0,\n",
    "            vehMaxPosAcc = 3.0,\n",
    "            vehMaxNegAcc = 4.5,\n",
    "            vehUsualPosAcc = 2.0,\n",
    "            vehUsualNegAcc = 3.5,\n",
    "            vehMinGap = 2.5, # 2.5\n",
    "            vehMaxSpeed =  16.67,\n",
    "            vehHeadwayTime = 10,\n",
    "            parameters = parameters,\n",
    "            roads_IN = roads_IN,\n",
    "            roads_OUT = roads_OUT,\n",
    "            road_adj_to_IN = road_adj_to_IN,\n",
    "            directory = Dir_FlowFile_Json,\n",
    "            FlowFile = FlowFile_Json,\n",
    "            random_routes = random_routes,\n",
    "            random_vehicle_parameters = random_vehicle_parameters\n",
    "        )\n",
    "        \n",
    "    else:\n",
    "        write_json_flow_file(\n",
    "            vehLen =  5,\n",
    "            vehWidth =  2,\n",
    "            roads_IN = roads_IN,\n",
    "            roads_OUT = roads_OUT,\n",
    "            road_adj_to_IN = road_adj_to_IN,\n",
    "            parameters = parameters,\n",
    "            directory = Dir_FlowFile_Json,\n",
    "            FlowFile = FlowFile_Json,\n",
    "            random_routes = random_routes,\n",
    "            random_vehicle_parameters = random_vehicle_parameters\n",
    "        )\n",
    "            "
   ]
  },
  {
   "cell_type": "code",
   "execution_count": 3,
   "id": "2b4cb628-49ad-4e2f-9c8a-c430b500e8af",
   "metadata": {
    "tags": []
   },
   "outputs": [
    {
     "ename": "KeyError",
     "evalue": "8",
     "output_type": "error",
     "traceback": [
      "\u001b[0;31m---------------------------------------------------------------------------\u001b[0m",
      "\u001b[0;31mKeyError\u001b[0m                                  Traceback (most recent call last)",
      "Cell \u001b[0;32mIn[3], line 12\u001b[0m\n\u001b[1;32m      9\u001b[0m \u001b[38;5;66;03m# sub directory of the roadnet file\u001b[39;00m\n\u001b[1;32m     10\u001b[0m subdirect \u001b[38;5;241m=\u001b[39m \u001b[38;5;124m\"\u001b[39m\u001b[38;5;124mManhattan\u001b[39m\u001b[38;5;124m\"\u001b[39m\n\u001b[0;32m---> 12\u001b[0m \u001b[43mmain\u001b[49m\u001b[43m(\u001b[49m\u001b[43msubdirect\u001b[49m\u001b[43m,\u001b[49m\u001b[43m \u001b[49m\u001b[43mrandom_routes\u001b[49m\u001b[43m,\u001b[49m\u001b[43m \u001b[49m\u001b[43mrandom_vehicle_parameters\u001b[49m\u001b[43m)\u001b[49m\n",
      "Cell \u001b[0;32mIn[2], line 8\u001b[0m, in \u001b[0;36mmain\u001b[0;34m(subdirect, random_routes, random_vehicle_parameters)\u001b[0m\n\u001b[1;32m      5\u001b[0m FlowFile_Json \u001b[38;5;241m=\u001b[39m \u001b[38;5;124m\"\u001b[39m\u001b[38;5;124mflow.json\u001b[39m\u001b[38;5;124m\"\u001b[39m\n\u001b[1;32m      7\u001b[0m \u001b[38;5;66;03m# if we want inflow / outflow from specific lanes, we can just overwrite roads_IN and roads_OUT\u001b[39;00m\n\u001b[0;32m----> 8\u001b[0m roads_IN, roads_OUT, road_adj_to_IN \u001b[38;5;241m=\u001b[39m \u001b[43mread_roadmap\u001b[49m\u001b[43m(\u001b[49m\u001b[43mRoad_map_Json\u001b[49m\u001b[43m)\u001b[49m\n\u001b[1;32m     10\u001b[0m \u001b[38;5;66;03m# \"Fixed\" or random vehicle routes (e.g. main and side roads)\u001b[39;00m\n\u001b[1;32m     11\u001b[0m \u001b[38;5;66;03m# ratio: what percentage [0,1] of all possible inflow-outflow combinations will have vehicles\u001b[39;00m\n\u001b[1;32m     12\u001b[0m \u001b[38;5;66;03m# effective_interval: what is the effective interval between 2 vehicles on a road (even with multiple routes starting from the same road)\u001b[39;00m\n\u001b[1;32m     13\u001b[0m \u001b[38;5;28;01mif\u001b[39;00m random_routes:\n\u001b[1;32m     14\u001b[0m     \u001b[38;5;66;03m# what percentage [0,1] of all possible inflow and outflow combinations will be considered\u001b[39;00m\n",
      "File \u001b[0;32m~/Documents/ETH/Do4/Simulation/generator/read_roadmap.py:40\u001b[0m, in \u001b[0;36mread_roadmap\u001b[0;34m(Road_map_Json)\u001b[0m\n\u001b[1;32m     38\u001b[0m \u001b[38;5;28;01mif\u001b[39;00m road[\u001b[38;5;124m\"\u001b[39m\u001b[38;5;124mstartIntersection\u001b[39m\u001b[38;5;124m\"\u001b[39m] \u001b[38;5;129;01min\u001b[39;00m virtual_intersections:\n\u001b[1;32m     39\u001b[0m     road_adj_virt_intersection_IN\u001b[38;5;241m.\u001b[39madd(road[\u001b[38;5;124m\"\u001b[39m\u001b[38;5;124mid\u001b[39m\u001b[38;5;124m\"\u001b[39m])\n\u001b[0;32m---> 40\u001b[0m     road_adj_to_IN[road[\u001b[38;5;124m\"\u001b[39m\u001b[38;5;124mid\u001b[39m\u001b[38;5;124m\"\u001b[39m]] \u001b[38;5;241m=\u001b[39m \u001b[38;5;124m\"\u001b[39m\u001b[38;5;124mroad\u001b[39m\u001b[38;5;124m\"\u001b[39m \u001b[38;5;241m+\u001b[39m road[\u001b[38;5;124m\"\u001b[39m\u001b[38;5;124mendIntersection\u001b[39m\u001b[38;5;124m\"\u001b[39m][\u001b[38;5;241m-\u001b[39m\u001b[38;5;241m4\u001b[39m:] \u001b[38;5;241m+\u001b[39m \u001b[38;5;124m\"\u001b[39m\u001b[38;5;124m_\u001b[39m\u001b[38;5;124m\"\u001b[39m \u001b[38;5;241m+\u001b[39m \u001b[38;5;28mstr\u001b[39m(\u001b[43mMapping_IN_to_OUT\u001b[49m\u001b[43m[\u001b[49m\u001b[38;5;28;43mint\u001b[39;49m\u001b[43m(\u001b[49m\u001b[43mroad\u001b[49m\u001b[43m[\u001b[49m\u001b[38;5;124;43m\"\u001b[39;49m\u001b[38;5;124;43mid\u001b[39;49m\u001b[38;5;124;43m\"\u001b[39;49m\u001b[43m]\u001b[49m\u001b[43m[\u001b[49m\u001b[38;5;241;43m-\u001b[39;49m\u001b[38;5;241;43m1\u001b[39;49m\u001b[43m]\u001b[49m\u001b[43m)\u001b[49m\u001b[43m]\u001b[49m)\n\u001b[1;32m     42\u001b[0m \u001b[38;5;28;01mif\u001b[39;00m road[\u001b[38;5;124m\"\u001b[39m\u001b[38;5;124mendIntersection\u001b[39m\u001b[38;5;124m\"\u001b[39m] \u001b[38;5;129;01min\u001b[39;00m virtual_intersections:\n\u001b[1;32m     43\u001b[0m     road_adj_virt_intersection_OUT\u001b[38;5;241m.\u001b[39madd(road[\u001b[38;5;124m\"\u001b[39m\u001b[38;5;124mid\u001b[39m\u001b[38;5;124m\"\u001b[39m])\n",
      "\u001b[0;31mKeyError\u001b[0m: 8"
     ]
    }
   ],
   "source": [
    "if __name__ == \"__main__\":\n",
    "    \n",
    "    # random vehicle routes\n",
    "    random_routes = False\n",
    "    \n",
    "    # random vehicle parameters\n",
    "    random_vehicle_parameters = False\n",
    "    \n",
    "    # sub directory of the roadnet file\n",
    "    subdirect = \"Manhattan\"\n",
    "    \n",
    "    main(subdirect, random_routes, random_vehicle_parameters)"
   ]
  },
  {
   "cell_type": "code",
   "execution_count": null,
   "id": "64861ed8-aad5-422e-bd9e-25d859e27ea3",
   "metadata": {},
   "outputs": [],
   "source": []
  }
 ],
 "metadata": {
  "kernelspec": {
   "display_name": "Python 3 (ipykernel)",
   "language": "python",
   "name": "python3"
  },
  "language_info": {
   "codemirror_mode": {
    "name": "ipython",
    "version": 3
   },
   "file_extension": ".py",
   "mimetype": "text/x-python",
   "name": "python",
   "nbconvert_exporter": "python",
   "pygments_lexer": "ipython3",
   "version": "3.8.18"
  }
 },
 "nbformat": 4,
 "nbformat_minor": 5
}
