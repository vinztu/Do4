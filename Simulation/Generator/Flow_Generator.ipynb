{
 "cells": [
  {
   "cell_type": "markdown",
   "id": "ec233948-c0a1-448c-8f25-3bd136974c42",
   "metadata": {},
   "source": [
    "# Generates a flow (demand) file\n",
    "#### Either fully random or it is possible to determine some main roads and side roads and generate different demand levels on them"
   ]
  },
  {
   "cell_type": "code",
   "execution_count": 1,
   "id": "bb265b65-0f8c-47be-8a52-41a8383c944b",
   "metadata": {
    "tags": []
   },
   "outputs": [],
   "source": [
    "from read_roadmap import read_roadmap\n",
    "from write_json import write_json_flow_file\n",
    "from plot_histogram import plot_distribution\n",
    "\n",
    "from collections import Counter\n",
    "import numpy as np"
   ]
  },
  {
   "cell_type": "code",
   "execution_count": 2,
   "id": "2b85ba19-4380-4452-a112-f9560277928e",
   "metadata": {
    "tags": []
   },
   "outputs": [
    {
     "name": "stdout",
     "output_type": "stream",
     "text": [
      "20\n"
     ]
    },
    {
     "data": {
      "text/plain": [
       "60"
      ]
     },
     "execution_count": 2,
     "metadata": {},
     "output_type": "execute_result"
    }
   ],
   "source": [
    "left_right = {i: [f\"road_0_{i}_0\", f\"road_30_{e}_0\"] for (i,e) in zip(range(1, 12), [1,2,3,4,5,6,6,9,9,10,11])}\n",
    "right_left = {i: [f\"road_31_{i}_2\", f\"road_1_{i}_2\"] for i in range(1, 12) if i not in {7, 8}}\n",
    "down_top = {i: [f\"road_{i}_0_1\", f\"road_{i}_11_1\"] for i in range(1, 31)}\n",
    "top_down = {i: [f\"road_{i}_12_3\", f\"road_{i}_1_3\"] for i in range(1, 31)}\n",
    "\n",
    "avenue_dicts = [left_right, right_left]\n",
    "street_dicts = [down_top, top_down]\n",
    "\n",
    "def create_dic(dicts):\n",
    "    created_dic = {}\n",
    "    index = 0\n",
    "    for d in dicts:\n",
    "        for key, value in d.items():\n",
    "            created_dic[index] = value\n",
    "            index += 1\n",
    "            \n",
    "    return created_dic\n",
    "\n",
    "\n",
    "avenues = create_dic(avenue_dicts)\n",
    "streets = create_dic(street_dicts)\n",
    "\n",
    "# Reorder the dictionary keys\n",
    "avenues = {i: avenues[i] for i in range(len(avenues))}\n",
    "streets = {i: streets[i] for i in range(len(streets))}\n",
    "\n",
    "print(len(avenues))\n",
    "len(streets)"
   ]
  },
  {
   "cell_type": "code",
   "execution_count": 3,
   "id": "8f1932ca-9b67-44b6-88e1-08de76a1c923",
   "metadata": {},
   "outputs": [],
   "source": [
    "def main(subdirect, random_routes, random_vehicle_parameters):\n",
    "    \n",
    "    Road_map_Json = f\"../Simulation_Results/{subdirect}/roadnet.json\"\n",
    "    Dir_FlowFile_Json = f\"../Simulation_Results/{subdirect}/\"\n",
    "    FlowFile_Json = \"flow.json\"\n",
    "    \n",
    "    # if we want inflow / outflow from specific lanes, we can just overwrite roads_IN and roads_OUT\n",
    "    roads_IN, roads_OUT, road_adj_to_IN, roads_INSIDE = read_roadmap(Road_map_Json)\n",
    "    \n",
    "    # \"Fixed\" or random vehicle routes (e.g. main and side roads)\n",
    "    # ratio: what percentage [0,1] of all possible inflow-outflow combinations will have vehicles\n",
    "    # effective_interval: what is the effective interval between 2 vehicles on a road (even with multiple routes starting from the same road)\n",
    "    if random_routes:\n",
    "        # what percentage [0,1] of all possible inflow and outflow combinations will be considered\n",
    "        parameters = {\n",
    "            \"traffic_ratio_out\": 0.7,\n",
    "            \"traffic_ratio_in\": 0.002,\n",
    "            \"interval\": 70.0\n",
    "        }\n",
    "        \n",
    "    else:\n",
    "        # just used to determine side roads\n",
    "        avenues_and_streets = set(element for sublist in list(avenues.values()) + list(streets.values()) for element in sublist)\n",
    "        \n",
    "        parameters = {\n",
    "            # store all road names\n",
    "            \"avenues_dic\": avenues,\n",
    "            \"streets_dic\": streets,\n",
    "            \"side_roads\": roads_IN.union(roads_OUT).difference(avenues_and_streets),\n",
    "            \n",
    "            # all demand generation parameters\n",
    "            \"avenues\" : {\"ratio\": 1, \"effective_interval\": 45},\n",
    "            \"streets\": {\"ratio\": 1, \"effective_interval\": 60},\n",
    "            \"mtm\": {\"ratio\": 0, \"effective_interval\": 50},\n",
    "            \"mts\": {\"ratio\": 0, \"effective_interval\": 45},\n",
    "            \"sts\": {\"ratio\": 0, \"effective_interval\": 45},    # effective interval only works if start time = 0\n",
    "            \"stm\": {\"ratio\": 0, \"effective_interval\": 40},\n",
    "            \"ito\": {\"ratio\": 0, \"effective_interval\": 45},\n",
    "            \"oti\": {\"ratio\": 0, \"effective_interval\": 45},\n",
    "            \"iti\": {\"ratio\": 0, \"effective_interval\": 40},\n",
    "            \"horizontal\": {\"ratio\": 0, \"effective_interval\": 45},\n",
    "            \"top\": {\"ratio\": 0, \"effective_interval\": 30},\n",
    "            \"left\": {\"ratio\": 0, \"effective_interval\": 30},\n",
    "            \"bottom\": {\"ratio\": 0, \"effective_interval\": 30},\n",
    "            \"only_bottom\": {\"ratio\": 0, \"effective_interval\": 5},\n",
    "            \"only_top\": {\"ratio\": 0, \"effective_interval\": 9},\n",
    "        }\n",
    "        \n",
    "            \n",
    "\n",
    "    \n",
    "    # Fixed or random vehicle parameters\n",
    "    if random_vehicle_parameters:\n",
    "        write_json_flow_file(\n",
    "            vehLen =  5,\n",
    "            vehWidth =  2,\n",
    "            roads_IN = roads_IN,\n",
    "            roads_OUT = roads_OUT,\n",
    "            road_adj_to_IN = road_adj_to_IN,\n",
    "            parameters = parameters,\n",
    "            directory = Dir_FlowFile_Json,\n",
    "            FlowFile = FlowFile_Json,\n",
    "            random_routes = random_routes,\n",
    "            random_vehicle_parameters = random_vehicle_parameters\n",
    "        )\n",
    "        \n",
    "    else:\n",
    "        routes_dict, num_vehicles = write_json_flow_file(\n",
    "            vehLen =  5.0,\n",
    "            vehWidth =  2.0,\n",
    "            vehMaxPosAcc = 3.0,\n",
    "            vehMaxNegAcc = 4.5,\n",
    "            vehUsualPosAcc = 2.0,\n",
    "            vehUsualNegAcc = 3.5,\n",
    "            vehMinGap = 2.5, # 2.5\n",
    "            vehMaxSpeed =  8.333, # 14 m/s ~ 50 km/h\n",
    "            vehHeadwayTime = 10,\n",
    "            parameters = parameters,\n",
    "            roads_IN = roads_IN,\n",
    "            roads_OUT = roads_OUT,\n",
    "            road_adj_to_IN = road_adj_to_IN,\n",
    "            roads_INSIDE = roads_INSIDE,\n",
    "            directory = Dir_FlowFile_Json,\n",
    "            FlowFile = FlowFile_Json,\n",
    "            random_routes = random_routes,\n",
    "            random_vehicle_parameters = random_vehicle_parameters\n",
    "        )\n",
    "    \n",
    "        # Plot distribution of generated vehicles\n",
    "        total_frequencies, total_bins = plot_distribution(routes_dict, num_vehicles)\n",
    "        \n",
    "        \n",
    "        return total_frequencies, total_bins"
   ]
  },
  {
   "cell_type": "code",
   "execution_count": 4,
   "id": "2b4cb628-49ad-4e2f-9c8a-c430b500e8af",
   "metadata": {
    "tags": []
   },
   "outputs": [
    {
     "name": "stdout",
     "output_type": "stream",
     "text": [
      "{'avenues': '0/20', 'streets': '60/60'}\n",
      "Number of routes generated (does not give all information about number of cars generated (different intervals))\n",
      "avenues: 20\n",
      "streets: 60\n",
      "Total flows: 80\n",
      "Successful created a flow file!\n"
     ]
    },
    {
     "data": {
      "image/png": "[encoded data removed]",
      "text/plain": [
       "<Figure size 1200x800 with 2 Axes>"
      ]
     },
     "metadata": {},
     "output_type": "display_data"
    }
   ],
   "source": [
    "if __name__ == \"__main__\":\n",
    "    \n",
    "    # random vehicle routes\n",
    "    random_routes = False\n",
    "    \n",
    "    # random vehicle parameters\n",
    "    random_vehicle_parameters = False\n",
    "    \n",
    "    # sub directory of the roadnet file\n",
    "    subdirect = \"Manhattan\"\n",
    "    \n",
    "    total_frequencies, total_bins = main(subdirect, random_routes, random_vehicle_parameters)"
   ]
  },
  {
   "cell_type": "code",
   "execution_count": 5,
   "id": "29525f99-cade-48b0-8d77-b27c775489b3",
   "metadata": {
    "tags": []
   },
   "outputs": [
    {
     "data": {
      "text/plain": [
       "array([ 18,  44,  68, 100, 124, 148, 142, 139, 144, 139, 139, 147, 138,\n",
       "       144, 142, 138, 144, 138, 139, 147, 142, 140, 143, 140, 138, 147,\n",
       "       139, 143, 146, 134, 142, 121, 113, 108,  87,  74,  63,  36,  25,\n",
       "        12])"
      ]
     },
     "execution_count": 5,
     "metadata": {},
     "output_type": "execute_result"
    }
   ],
   "source": [
    "# Get the values from the dictionary\n",
    "arrays = list(total_frequencies.values())\n",
    "\n",
    "# Use zip to iterate over the corresponding elements\n",
    "result = np.sum(list(zip(*arrays)), axis=1)\n",
    "\n",
    "pair_sums = np.array([int(sum(result[i:i+2])) for i in range(0, len(result), 2)])\n",
    "\n",
    "pair_sums"
   ]
  },
  {
   "cell_type": "code",
   "execution_count": null,
   "id": "be149f63-1659-46fa-acbc-fdbc8138de88",
   "metadata": {},
   "outputs": [],
   "source": []
  }
 ],
 "metadata": {
  "kernelspec": {
   "display_name": "Python 3 (ipykernel)",
   "language": "python",
   "name": "python3"
  },
  "language_info": {
   "codemirror_mode": {
    "name": "ipython",
    "version": 3
   },
   "file_extension": ".py",
   "mimetype": "text/x-python",
   "name": "python",
   "nbconvert_exporter": "python",
   "pygments_lexer": "ipython3",
   "version": "3.8.18"
  }
 },
 "nbformat": 4,
 "nbformat_minor": 5
}
