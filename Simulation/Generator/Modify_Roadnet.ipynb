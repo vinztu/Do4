{
 "cells": [
  {
   "cell_type": "markdown",
   "id": "db0039fd-8882-4f40-95b9-0cfd36ff58db",
   "metadata": {},
   "source": [
    "# Modify a standard Grid road network\n",
    "#### Delete some intersections, move intersections / roads spatially and define an empty trafficlight dict (use Phase.ipynb to define new phases)"
   ]
  },
  {
   "cell_type": "code",
   "execution_count": 1,
   "id": "95e394f6-0b17-4159-bb9d-cd72b084a118",
   "metadata": {
    "tags": []
   },
   "outputs": [],
   "source": [
    "import json"
   ]
  },
  {
   "cell_type": "code",
   "execution_count": 2,
   "id": "50110d72-aac7-4df9-98f7-276d9e3f0cbf",
   "metadata": {},
   "outputs": [],
   "source": [
    "def create_trafficlights(lenght, virtual):\n",
    "    if virtual: \n",
    "        trafficLight = {\n",
    "            \"roadLinkIndices\": list(range(lenght)),\n",
    "            \"lightphases\": [\n",
    "                {\n",
    "                    \"time\": 30,\n",
    "                    \"availableRoadLinks\": [\n",
    "                    ]\n",
    "                },\n",
    "                {\n",
    "                    \"time\": 30,\n",
    "                    \"availableRoadLinks\": []\n",
    "                }\n",
    "            ]\n",
    "        }\n",
    "        \n",
    "    else:\n",
    "        trafficLight = {\n",
    "            \"roadLinkIndices\": list(range(lenght)),\n",
    "            \"lightphases\": [\n",
    "                {\n",
    "                    \"time\": 30,\n",
    "                    \"availableRoadLinks\": [\n",
    "                        0\n",
    "                    ]\n",
    "                },\n",
    "                {\n",
    "                    \"time\": 30,\n",
    "                    \"availableRoadLinks\": []\n",
    "                }\n",
    "            ]\n",
    "        }\n",
    "    \n",
    "    return trafficLight"
   ]
  },
  {
   "cell_type": "code",
   "execution_count": 3,
   "id": "a7961f95-3187-4952-b2d5-90614abd38d1",
   "metadata": {
    "tags": []
   },
   "outputs": [],
   "source": [
    "def choose_del_intersections():\n",
    "    del_intersections = set()\n",
    "\n",
    "    for i in range(11, 30):\n",
    "        for e in range(7, 9):\n",
    "            del_intersections.add(f\"intersection_{i}_{e}\")\n",
    "            \n",
    "    return del_intersections"
   ]
  },
  {
   "cell_type": "code",
   "execution_count": 4,
   "id": "e5bedb85-8f13-4515-864d-8dffd240ced4",
   "metadata": {
    "tags": []
   },
   "outputs": [],
   "source": [
    "def delete_intersections(data):\n",
    "    # which intersections to delete\n",
    "    del_intersections = choose_del_intersections()\n",
    "    print(f\"number of deleted intersections {len(del_intersections)}\")\n",
    "\n",
    "    counter = 0\n",
    "\n",
    "    adjacent_roads = set()\n",
    "\n",
    "    # First round to find all roads that will be deleted\n",
    "    del_indices = []\n",
    "\n",
    "    for index, intersection in enumerate(data[\"intersections\"]):\n",
    "\n",
    "        if intersection[\"id\"] in del_intersections:\n",
    "\n",
    "            # Get all adjacent roads\n",
    "            adjacent_roads.update(set(intersection[\"roads\"]))\n",
    "\n",
    "            del_indices.append(index)\n",
    "\n",
    "            counter += 1\n",
    "\n",
    "    for index in del_indices[::-1]:\n",
    "        del data[\"intersections\"][index]\n",
    "\n",
    "    # Second round to delete all roads from all intersections\n",
    "    for intersection in data[\"intersections\"]:\n",
    "\n",
    "        # Delete roads\n",
    "        intersection[\"roads\"] = [road for road in intersection[\"roads\"] if road not in adjacent_roads]\n",
    "\n",
    "        # Delete roadLinks\n",
    "        intersection[\"roadLinks\"] = [roadLink for roadLink in intersection[\"roadLinks\"] if\n",
    "                                     roadLink[\"endRoad\"] not in adjacent_roads and roadLink[\"startRoad\"] not in adjacent_roads]\n",
    "\n",
    "    # Delete all roads from data[\"roads\"]\n",
    "    data[\"roads\"] = [road for road in data[\"roads\"] if road[\"id\"] not in adjacent_roads]\n",
    "\n",
    "\n",
    "    # Adjust all traffic lights and delete unncessary intersections\n",
    "    del_indices = []\n",
    "\n",
    "    for index, intersection in enumerate(data[\"intersections\"]):\n",
    "\n",
    "        # number of incoming lanes\n",
    "        number_incoming = len(intersection[\"roadLinks\"])\n",
    "\n",
    "        virtual = intersection[\"virtual\"]\n",
    "\n",
    "        # create some sample lightphase\n",
    "        intersection[\"trafficLight\"] = create_trafficlights(number_incoming, virtual)\n",
    "\n",
    "        # delete unncessary intersections\n",
    "        if len(intersection[\"roads\"]) == 0:\n",
    "               del_indices.append(index)\n",
    "\n",
    "    for index in del_indices[::-1]:\n",
    "        del data[\"intersections\"][index]\n",
    "\n",
    "\n",
    "    counter = 0\n",
    "    for inter in data[\"intersections\"]:\n",
    "        if inter[\"virtual\"] == False:\n",
    "            counter += 1\n",
    "\n",
    "    print(f\"There are {counter} intersections left in the network\")\n",
    "\n"
   ]
  },
  {
   "cell_type": "code",
   "execution_count": 5,
   "id": "689512ac-40ad-41b8-910e-9f30f476d89b",
   "metadata": {
    "tags": []
   },
   "outputs": [],
   "source": [
    "def move_intersections_and_lanes(data, axis, selective_shifting):\n",
    "    \n",
    "    save_shift = {}\n",
    "    \n",
    "    base = 0\n",
    "    end = 0\n",
    "    \n",
    "    for select, amount in selective_shifting.items():\n",
    "        \n",
    "        for intersection in data[\"intersections\"]:\n",
    "\n",
    "            index = int(intersection[\"id\"].split(\"_\")[1]) if axis == \"x\" else int(intersection[\"id\"].split(\"_\")[2]) if axis == \"y\" else None\n",
    "            \n",
    "            if index <= select[0] or index > select[1]:\n",
    "                continue\n",
    "                \n",
    "                \n",
    "            if axis == \"y\":\n",
    "                shift = (index - end + 1) * amount + base\n",
    "\n",
    "            elif axis == \"x\":\n",
    "                shift = (index - end + 1) * amount + base\n",
    "            \n",
    "            save_shift[intersection[\"id\"]] = shift\n",
    "\n",
    "            # move intersection id's points\n",
    "            intersection[\"point\"][axis] += shift\n",
    "\n",
    "            # move roadlinks points\n",
    "            if intersection[\"roadLinks\"]:\n",
    "                for roadLink in intersection[\"roadLinks\"]:\n",
    "                    for laneLinks in roadLink[\"laneLinks\"]:\n",
    "                        for point in laneLinks[\"points\"]:\n",
    "                            point[axis] += shift\n",
    "                \n",
    "                \n",
    "        base += shift\n",
    "        end = select[1] + 1\n",
    "        \n",
    "            \n",
    "            \n",
    "    for road in data[\"roads\"]:\n",
    "        \n",
    "        # start point\n",
    "        road[\"points\"][0][axis] += save_shift[road[\"startIntersection\"]]\n",
    "        \n",
    "        # end point\n",
    "        road[\"points\"][1][axis] += save_shift[road[\"endIntersection\"]]\n",
    "        "
   ]
  },
  {
   "cell_type": "code",
   "execution_count": 6,
   "id": "e106b0bf-cbf8-4aa3-bba7-5b6bcb96ea43",
   "metadata": {
    "tags": []
   },
   "outputs": [
    {
     "name": "stdout",
     "output_type": "stream",
     "text": [
      "number of deleted intersections 38\n",
      "There are 292 intersections left in the network\n",
      "Modified data saved as ../Simulation_Results/man/roadnet_modified.json\n"
     ]
    }
   ],
   "source": [
    "# Opening JSON file\n",
    "json_file = \"../Simulation_Results/man/\"\n",
    "\n",
    "with open(json_file + \"roadnet.json\") as f:\n",
    "    data = json.load(f)\n",
    "    \n",
    "    \n",
    "move_intersections_and_lanes(data, \"x\", {(-1, 31): -200})\n",
    "move_intersections_and_lanes(data, \"y\", {(-1, 6): -150, (6, 12): -30})\n",
    "\n",
    "\n",
    "delete_intersections(data)\n",
    "\n",
    "\n",
    "# Save the modified data as a new JSON file\n",
    "new_json_file = json_file + \"roadnet_modified.json\"\n",
    "with open(new_json_file, \"w\") as f:\n",
    "    json.dump(data, f, indent=4)\n",
    "\n",
    "print(f\"Modified data saved as {new_json_file}\")"
   ]
  },
  {
   "cell_type": "code",
   "execution_count": null,
   "id": "bb00b766-1af0-4d5a-8a32-e769ca911b07",
   "metadata": {},
   "outputs": [],
   "source": []
  }
 ],
 "metadata": {
  "kernelspec": {
   "display_name": "Python 3 (ipykernel)",
   "language": "python",
   "name": "python3"
  },
  "language_info": {
   "codemirror_mode": {
    "name": "ipython",
    "version": 3
   },
   "file_extension": ".py",
   "mimetype": "text/x-python",
   "name": "python",
   "nbconvert_exporter": "python",
   "pygments_lexer": "ipython3",
   "version": "3.8.18"
  }
 },
 "nbformat": 4,
 "nbformat_minor": 5
}
