{
 "cells": [
  {
   "cell_type": "markdown",
   "id": "00e02ed8-57a6-4462-ae66-fd70e4ceb1e3",
   "metadata": {
    "tags": []
   },
   "source": [
    "# Simulation Environment"
   ]
  },
  {
   "cell_type": "code",
   "execution_count": 1,
   "id": "d9a4dc71-6d5d-4c07-b5ab-ef2ca61d52d0",
   "metadata": {
    "tags": []
   },
   "outputs": [],
   "source": [
    "# add the root to sys.path\n",
    "import sys\n",
    "sys_path = '/Users/vinz/Documents/ETH/Do4'\n",
    "sys.path.append(sys_path)"
   ]
  },
  {
   "cell_type": "code",
   "execution_count": 2,
   "id": "95de597a-34ac-485a-b18e-6f5c7350651b",
   "metadata": {
    "tags": []
   },
   "outputs": [],
   "source": [
    "from Simulation.helper.Simulation_class import Simulation\n",
    "from Simulation.helper.initialization import initialize\n",
    "from Simulation.helper.simulation_wrapper import sim_wrapper\n",
    "from Simulation.parameter_loader import load_parameters\n",
    "from Simulation.helper.fake_ray_agents import fake_agent\n",
    "from Simulation.metrics import Metrics"
   ]
  },
  {
   "cell_type": "markdown",
   "id": "3560cb67-9ea3-41d2-a127-38f9335b0347",
   "metadata": {},
   "source": [
    "## Simulation parameters"
   ]
  },
  {
   "cell_type": "code",
   "execution_count": 3,
   "id": "7a620b59-5775-4a79-b711-cab15a3f4fb2",
   "metadata": {
    "tags": []
   },
   "outputs": [],
   "source": [
    "def main(algorithm, road_network, write_phase_to_json, load_capacities, ext_dict):\n",
    "    \n",
    "    if algorithm != \"Centralized\":\n",
    "        import ray\n",
    "\n",
    "    # load simulation parameters\n",
    "    params = load_parameters(algorithm, road_network, ext_dict)\n",
    "\n",
    "    # instantiate the sim object\n",
    "    sim = Simulation(params, algorithm, sys_path, write_phase_to_json)\n",
    "\n",
    "    # read (write) the necessary from (to) the roadnet file\n",
    "    initialize(sim, load_capacities)\n",
    "    \n",
    "    # do some fake computations to warmup ray (consistent computation time)\n",
    "    fake_agent()\n",
    "\n",
    "    # do many rounds of the same simulation\n",
    "    for current_round in range(sim.params[\"number_of_rounds\"]):\n",
    "\n",
    "        # instantiate the Metrics class\n",
    "        metrics_recorder = Metrics(sim)\n",
    "\n",
    "        # start the simulation\n",
    "        sim_wrapper(sim, metrics_recorder)\n",
    "\n",
    "        # generate the performance report\n",
    "        metrics_recorder.generate_report(sim, current_round)\n",
    "        \n",
    "        # reset variables for the next round\n",
    "        sim.reset_variables()\n",
    "\n",
    "\n",
    "    if algorithm != \"Centralized\":\n",
    "        # terminate ray runtime\n",
    "        ray.shutdown()\n",
    "\n",
    "    print(\"\\n\\n##### SIMULATION COMPLETED #####\")"
   ]
  },
  {
   "cell_type": "code",
   "execution_count": 4,
   "id": "a2ee5a80-3f2a-4ee8-8819-6dcdd599c23c",
   "metadata": {
    "tags": []
   },
   "outputs": [
    {
     "name": "stderr",
     "output_type": "stream",
     "text": [
      "2024-02-14 13:29:12,545\tINFO worker.py:1715 -- Started a local Ray instance. View the dashboard at \u001b[1m\u001b[32mhttp://127.0.0.1:8265 \u001b[39m\u001b[22m\n"
     ]
    },
    {
     "name": "stdout",
     "output_type": "stream",
     "text": [
      "This cluster consists of\n",
      "                1 nodes in total\n",
      "                8.0 CPU resources in total\n",
      "            \n"
     ]
    },
    {
     "data": {
      "application/vnd.jupyter.widget-view+json": {
       "model_id": "502a74f1dab5421c933079818f824cd8",
       "version_major": 2,
       "version_minor": 0
      },
      "text/plain": [
       "Simulation Time Step:   0%|          | 0/4000 [00:00<?, ?it/s]"
      ]
     },
     "metadata": {},
     "output_type": "display_data"
    },
    {
     "name": "stdout",
     "output_type": "stream",
     "text": [
      "\n",
      "\n",
      "##### SIMULATION COMPLETED #####\n"
     ]
    }
   ],
   "source": [
    "# used algorithm\n",
    "# Fixed-Time, MP, CA_MP, Centralized, LDPP + T/GF + ADMM/Greedy\n",
    "algorithm = \"Fixed-Time\"\n",
    "\n",
    "# Specify which road network to use (dir name)\n",
    "road_network = \"Manhattan\"\n",
    "\n",
    "write_phase_to_json = False\n",
    "\n",
    "load_capacities = True\n",
    "\n",
    "\n",
    "main(algorithm, road_network, write_phase_to_json, load_capacities, {})"
   ]
  },
  {
   "cell_type": "code",
   "execution_count": null,
   "id": "e3b9b571-f305-40c5-98c8-02472cc2c5bb",
   "metadata": {
    "tags": []
   },
   "outputs": [
    {
     "name": "stdout",
     "output_type": "stream",
     "text": [
      "108\n",
      "1.05\n"
     ]
    }
   ],
   "source": [
    "import numpy as np\n",
    "from itertools import product\n",
    "\n",
    "delta_and_idle = [(20, 0)]\n",
    "# small between 12 - 15 cars per lane\n",
    "capacity = [10]\n",
    "V1 = [0, 1, 5]\n",
    "V2 = [0, 1, 5]\n",
    "V3 = [0, 1, 5]\n",
    "L = [5, 20]\n",
    "rho = [0.2, 1]\n",
    "\n",
    "\n",
    "# Generate all possible combinations of parameter values\n",
    "f = product(delta_and_idle, capacity, V1, V2, V3, L, rho)\n",
    "\n",
    "length = len(list(f))\n",
    "print(length)\n",
    "\n",
    "print((length * 7 * 2)/(24*60))"
   ]
  },
  {
   "cell_type": "code",
   "execution_count": null,
   "id": "b5e0b286-c86e-4126-8441-a1f41bf54619",
   "metadata": {
    "tags": []
   },
   "outputs": [
    {
     "name": "stdout",
     "output_type": "stream",
     "text": [
      "20\n"
     ]
    },
    {
     "data": {
      "text/plain": [
       "0.4861111111111111"
      ]
     },
     "execution_count": 2,
     "metadata": {},
     "output_type": "execute_result"
    }
   ],
   "source": [
    "import numpy as np\n",
    "from itertools import product\n",
    "\n",
    "delta_and_idle = [(20, 0)]\n",
    "# small between 12 - 15 cars per lane\n",
    "V = [0, 1, 2, 6, 12]\n",
    "rho = [0.1, 1, 2, 5]\n",
    "\n",
    "# used algorithm\n",
    "# MP, CA_MP, Centralized, LDPP + T/GF + ADMM/Greedy\n",
    "algorithm = \"LDPP-GF-ADMM\"\n",
    "\n",
    "# Specify which road network to use (dir name)\n",
    "road_network = \"3_4_Fine\"\n",
    "\n",
    "# Generate all possible combinations of parameter values\n",
    "f = parameter_combinations = product(delta_and_idle, V, rho)\n",
    "\n",
    "\n",
    "length = len(list(f))\n",
    "print(length)\n",
    "\n",
    "(length * 7 * 5)/(24*60)"
   ]
  },
  {
   "cell_type": "code",
   "execution_count": null,
   "id": "fc4d9838-dc3b-4a49-86fc-9ebfc49c174c",
   "metadata": {
    "tags": []
   },
   "outputs": [],
   "source": [
    "import numpy as np\n",
    "from itertools import product\n",
    "\n",
    "\n",
    "delta_and_idle = [(20, 0)]\n",
    "# small between 12 - 15 cars per lane\n",
    "prediction_horizon = [1, 3, 5]\n",
    "scaling = [1, 5, 20, 30]\n",
    "alpha = [0.1, 0.3, 0.6, 0.9]\n",
    "\n",
    "\n",
    "# used algorithm\n",
    "# MP, CA_MP, Centralized, LDPP + T/GF + ADMM/Greedy\n",
    "algorithm = \"Centralized\"\n",
    "\n",
    "# Specify which road network to use (dir name)\n",
    "road_network = \"3_4_Fine\"\n",
    "\n",
    "# Generate all possible combinations of parameter values\n",
    "f = parameter_combinations = product(delta_and_idle, prediction_horizon, scaling, alpha)\n",
    "\n",
    "\n",
    "length = len(list(f))\n",
    "print(length)\n",
    "\n",
    "(length * 7 * 2)/(24*60)"
   ]
  },
  {
   "cell_type": "code",
   "execution_count": null,
   "id": "40ddadd7-4680-469e-ba72-986c506676c0",
   "metadata": {
    "tags": []
   },
   "outputs": [
    {
     "name": "stdout",
     "output_type": "stream",
     "text": [
      "{'delta': 20, 'idle_time': 5, 'alpha': 0.1, 'scaling': 1, 'prediction_horizon': 1}\n"
     ]
    },
    {
     "name": "stderr",
     "output_type": "stream",
     "text": [
      "2024-01-21 11:24:33,120\tINFO worker.py:1664 -- Started a local Ray instance. View the dashboard at \u001b[1m\u001b[32mhttp://127.0.0.1:8265 \u001b[39m\u001b[22m\n"
     ]
    },
    {
     "data": {
      "application/vnd.jupyter.widget-view+json": {
       "model_id": "d494ee0151fd430aa93782d30c41b216",
       "version_major": 2,
       "version_minor": 0
      },
      "text/plain": [
       "Simulation Time Step:   0%|          | 0/2000 [00:00<?, ?it/s]"
      ]
     },
     "metadata": {},
     "output_type": "display_data"
    },
    {
     "data": {
      "application/vnd.jupyter.widget-view+json": {
       "model_id": "f04c57f0a0914c959b564288973dabd0",
       "version_major": 2,
       "version_minor": 0
      },
      "text/plain": [
       "Simulation Time Step:   0%|          | 0/2000 [00:00<?, ?it/s]"
      ]
     },
     "metadata": {},
     "output_type": "display_data"
    }
   ],
   "source": [
    "import numpy as np\n",
    "from itertools import product\n",
    "\n",
    "delta_and_idle = [(20, 5)]\n",
    "# small between 12 - 15 cars per lane\n",
    "capacity = [10, 15]\n",
    "V1 = [0, 1, 6]\n",
    "V2 = [0, 1, 6]\n",
    "V3 = [0, 1, 6]\n",
    "L = [5, 20]\n",
    "rho = [0.1, 1, 5]\n",
    "\n",
    "\n",
    "alpha = [0.1]\n",
    "scaling = [1]\n",
    "prediction_horizon = [1]\n",
    "\n",
    "\n",
    "# used algorithm\n",
    "# Fixed-Time, MP, CA_MP, Centralized, LDPP + T/GF + ADMM/Greedy\n",
    "algorithm = \"Centralized\"\n",
    "\n",
    "# Specify which road network to use (dir name)\n",
    "road_network = \"3_4_Fine\"\n",
    "\n",
    "# write phase definitions back to roadnet file\n",
    "write_phase_to_json = False\n",
    "\n",
    "# use custom .json file with capacities\n",
    "load_capacities = False\n",
    "\n",
    "# Generate all possible combinations of parameter values\n",
    "parameter_combinations = product(delta_and_idle, alpha, scaling, prediction_horizon)#, capacity, V1, V2, V3, L, rho)\n",
    "\n",
    "for i, combination in enumerate(parameter_combinations):\n",
    "        \n",
    "    ext_dict = {\n",
    "        \"delta\": combination[0][0],\n",
    "        \"idle_time\": combination[0][1],\n",
    "        \"alpha\": combination[1],\n",
    "        \"scaling\": combination[2],\n",
    "        \"prediction_horizon\": combination[3],\n",
    "        #\"V3\": combination[4],\n",
    "        #\"L\": combination[5],\n",
    "        #\"rho\": combination[6]\n",
    "    }\n",
    "    \n",
    "    print(ext_dict)\n",
    "    main(algorithm, road_network, ext_dict)"
   ]
  }
 ],
 "metadata": {
  "kernelspec": {
   "display_name": "Python 3 (ipykernel)",
   "language": "python",
   "name": "python3"
  },
  "language_info": {
   "codemirror_mode": {
    "name": "ipython",
    "version": 3
   },
   "file_extension": ".py",
   "mimetype": "text/x-python",
   "name": "python",
   "nbconvert_exporter": "python",
   "pygments_lexer": "ipython3",
   "version": "3.8.18"
  }
 },
 "nbformat": 4,
 "nbformat_minor": 5
}
