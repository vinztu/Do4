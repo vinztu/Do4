{
 "cells": [
  {
   "cell_type": "markdown",
   "id": "00e02ed8-57a6-4462-ae66-fd70e4ceb1e3",
   "metadata": {
    "tags": []
   },
   "source": [
    "# Simulation Environment"
   ]
  },
  {
   "cell_type": "code",
   "execution_count": 1,
   "id": "95de597a-34ac-485a-b18e-6f5c7350651b",
   "metadata": {
    "tags": []
   },
   "outputs": [],
   "source": [
    "from simulation_package.helper.Simulation_class import Simulation\n",
    "from simulation_package.helper.initialization import initialize\n",
    "from simulation_package.helper.simulation_wrapper import sim_wrapper\n",
    "from simulation_package.parameter_loader import load_parameters\n",
    "from simulation_package.helper.fake_ray_agents import fake_agent\n",
    "from simulation_package.metrics import Metrics"
   ]
  },
  {
   "cell_type": "markdown",
   "id": "3560cb67-9ea3-41d2-a127-38f9335b0347",
   "metadata": {
    "tags": []
   },
   "source": [
    "## Simulation parameters"
   ]
  },
  {
   "cell_type": "code",
   "execution_count": 2,
   "id": "7a620b59-5775-4a79-b711-cab15a3f4fb2",
   "metadata": {
    "tags": []
   },
   "outputs": [],
   "source": [
    "def main(algorithm, road_network, write_phase_to_json, load_capacities, ext_dict, retrieve_ADMM_objective, global_objective):\n",
    "    \n",
    "    if algorithm != \"Centralized\":\n",
    "        import ray\n",
    "    \n",
    "    # load simulation parameters\n",
    "    params = load_parameters(algorithm, road_network, ext_dict)\n",
    "\n",
    "    # instantiate the sim object\n",
    "    sim = Simulation(params, algorithm, write_phase_to_json)\n",
    "\n",
    "    # read (write) the necessary from (to) the roadnet file\n",
    "    initialize(sim, load_capacities)\n",
    "    \n",
    "    if algorithm != \"Centralized\":\n",
    "        # do some fake computations to warmup ray (consistent computation time)\n",
    "        fake_agent(sim)\n",
    "\n",
    "    # do many rounds of the same simulation\n",
    "    for current_round in range(sim.params[\"number_of_rounds\"]):\n",
    "\n",
    "        # instantiate the Metrics class\n",
    "        metrics_recorder = Metrics(sim)\n",
    "\n",
    "        # start the simulation\n",
    "        sim_wrapper(sim, metrics_recorder, retrieve_ADMM_objective, global_objective)\n",
    "\n",
    "        # generate the performance report\n",
    "        metrics_recorder.generate_report(sim, current_round)\n",
    "        \n",
    "        # reset variables for the next round\n",
    "        if current_round < sim.params[\"number_of_rounds\"] - 1:\n",
    "            sim.reset_variables(current_round)\n",
    "    \n",
    "\n",
    "    if algorithm != \"Centralized\":\n",
    "        # terminate ray runtime\n",
    "        ray.shutdown()\n",
    "\n",
    "    print(\"\\n\\n##### SIMULATION COMPLETED #####\")"
   ]
  },
  {
   "cell_type": "code",
   "execution_count": 3,
   "id": "40ddadd7-4680-469e-ba72-986c506676c0",
   "metadata": {
    "tags": []
   },
   "outputs": [
    {
     "name": "stdout",
     "output_type": "stream",
     "text": [
      "{'delta': 20, 'idle_time': 0}\n"
     ]
    },
    {
     "name": "stderr",
     "output_type": "stream",
     "text": [
      "2024-03-24 22:21:35,028\tINFO worker.py:1715 -- Started a local Ray instance. View the dashboard at \u001b[1m\u001b[32mhttp://127.0.0.1:8265 \u001b[39m\u001b[22m\n"
     ]
    },
    {
     "name": "stdout",
     "output_type": "stream",
     "text": [
      "This cluster consists of\n",
      "                1 nodes in total\n",
      "                8.0 CPU resources in total\n",
      "            \n"
     ]
    },
    {
     "data": {
      "application/vnd.jupyter.widget-view+json": {
       "model_id": "7f0566daa62f40a4af4a26398275fdc7",
       "version_major": 2,
       "version_minor": 0
      },
      "text/plain": [
       "Simulation Time Step:   0%|          | 0/4000 [00:00<?, ?it/s]"
      ]
     },
     "metadata": {},
     "output_type": "display_data"
    },
    {
     "name": "stdout",
     "output_type": "stream",
     "text": [
      "\n",
      "\n",
      "##### SIMULATION COMPLETED #####\n"
     ]
    }
   ],
   "source": [
    "import numpy as np\n",
    "from itertools import product\n",
    "import json\n",
    "\n",
    "delta_and_idle = [(20, 0)]\n",
    "# small between 12 - 15 cars per lane\n",
    "#capacity = [13, 25]\n",
    "#V1 = [0, 1, 3]\n",
    "#V2 = [0, 1, 3]\n",
    "#V3 = [0, 1, 3]\n",
    "#L = [5, 20]\n",
    "#rho = [0.5, 2]\n",
    "\n",
    "# used algorithm\n",
    "# Fixed-Time, MP, CA_MP, Centralized, LDPP + T/GF + ADMM/Greedy\n",
    "algorithm = \"MP\"\n",
    "\n",
    "# Specify which road network to use (dir name)\n",
    "road_network = \"Manhattan\"\n",
    "\n",
    "# write phase definitions back to roadnet file\n",
    "write_phase_to_json = True if road_network != \"Manhattan\" else False\n",
    "\n",
    "# use custom .json file with capacities\n",
    "load_capacities = False if road_network != \"Manhattan\" else True\n",
    "\n",
    "# Generate all possible combinations of parameter values\n",
    "parameter_combinations = product(delta_and_idle)#, capacity, V1, V2, V3, L, rho)\n",
    "\n",
    "\n",
    "retrieve_ADMM_objective = {0: None, 20: None, 40: None, 60: None, 100: None, 200: None, 500: None, 1000: None, 1500: None, 2000: None}\n",
    "global_objective = {}\n",
    "\n",
    "\n",
    "for i, combination in enumerate(parameter_combinations):\n",
    "    \n",
    "    ext_dict = {\n",
    "        \"delta\": combination[0][0],\n",
    "        \"idle_time\": combination[0][1],\n",
    "        #\"capacity\": combination[1],\n",
    "        #\"V1\": combination[2],\n",
    "        #\"V2\": combination[3],\n",
    "        #\"V3\": combination[4],\n",
    "        #\"L\": combination[5],\n",
    "        #\"rho\": combination[6]\n",
    "    }\n",
    "    \n",
    "    print(ext_dict)\n",
    "    main(algorithm, road_network, write_phase_to_json, load_capacities, ext_dict, retrieve_ADMM_objective, global_objective)\n",
    "\n",
    "    if \"LDPP\" in algorithm:\n",
    "        # Save the dictionary to a JSON file\n",
    "        combined_dict = {\"retrieve_ADMM_objective\": retrieve_ADMM_objective, \"global_objective\": global_objective}\n",
    "\n",
    "        # Save to a JSON file\n",
    "        with open(f'OBJECTIVE_{algorithm.split(\"-\")[1]}_{algorithm.split(\"-\")[2]}_{i}.json', 'w') as json_file:\n",
    "            json.dump(combined_dict, json_file, indent=2)"
   ]
  }
 ],
 "metadata": {
  "kernelspec": {
   "display_name": "Python 3 (ipykernel)",
   "language": "python",
   "name": "python3"
  },
  "language_info": {
   "codemirror_mode": {
    "name": "ipython",
    "version": 3
   },
   "file_extension": ".py",
   "mimetype": "text/x-python",
   "name": "python",
   "nbconvert_exporter": "python",
   "pygments_lexer": "ipython3",
   "version": "3.8.18"
  }
 },
 "nbformat": 4,
 "nbformat_minor": 5
}
