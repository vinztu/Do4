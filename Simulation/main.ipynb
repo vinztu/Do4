{
 "cells": [
  {
   "cell_type": "markdown",
   "id": "00e02ed8-57a6-4462-ae66-fd70e4ceb1e3",
   "metadata": {},
   "source": [
    "# Simulation Environment"
   ]
  },
  {
   "cell_type": "code",
   "execution_count": 1,
   "id": "d9a4dc71-6d5d-4c07-b5ab-ef2ca61d52d0",
   "metadata": {
    "tags": []
   },
   "outputs": [],
   "source": [
    "# add the root to sys.path\n",
    "import sys\n",
    "sys.path.append('/Users/vinz/Documents/ETH/Do4')"
   ]
  },
  {
   "cell_type": "code",
   "execution_count": 2,
   "id": "95de597a-34ac-485a-b18e-6f5c7350651b",
   "metadata": {
    "tags": []
   },
   "outputs": [],
   "source": [
    "from Simulation.helper.Simulation_class import Simulation\n",
    "from Simulation.helper.initialization import initialize\n",
    "from Simulation.helper.simulation_wrapper import sim_wrapper\n",
    "from Simulation.parameter_loader import load_parameters\n",
    "from Simulation.metrics import Metrics"
   ]
  },
  {
   "cell_type": "markdown",
   "id": "3560cb67-9ea3-41d2-a127-38f9335b0347",
   "metadata": {},
   "source": [
    "## Simulation parameters"
   ]
  },
  {
   "cell_type": "code",
   "execution_count": 3,
   "id": "7a620b59-5775-4a79-b711-cab15a3f4fb2",
   "metadata": {
    "tags": []
   },
   "outputs": [
    {
     "name": "stderr",
     "output_type": "stream",
     "text": [
      "2023-12-27 15:59:16,665\tINFO worker.py:1664 -- Started a local Ray instance. View the dashboard at \u001b[1m\u001b[32mhttp://127.0.0.1:8265 \u001b[39m\u001b[22m\n"
     ]
    },
    {
     "name": "stdout",
     "output_type": "stream",
     "text": [
      "Number of CPUs in this system: 8\n"
     ]
    },
    {
     "data": {
      "application/vnd.jupyter.widget-view+json": {
       "model_id": "a9fb7bc823ff4b82899e05961e5f066c",
       "version_major": 2,
       "version_minor": 0
      },
      "text/plain": [
       "Simulation Time Step:   0%|          | 0/1000 [00:00<?, ?it/s]"
      ]
     },
     "metadata": {},
     "output_type": "display_data"
    },
    {
     "data": {
      "application/vnd.jupyter.widget-view+json": {
       "model_id": "b440bcf84d3344f19e2efcb78ea9b48b",
       "version_major": 2,
       "version_minor": 0
      },
      "text/plain": [
       "Simulation Time Step:   0%|          | 0/1000 [00:00<?, ?it/s]"
      ]
     },
     "metadata": {},
     "output_type": "display_data"
    },
    {
     "name": "stdout",
     "output_type": "stream",
     "text": [
      "\n",
      "\n",
      "##### SIMULATION COMPLETED #####\n"
     ]
    }
   ],
   "source": [
    "# used algorithm\n",
    "# MP, CA_MP, Centralized\n",
    "algorithm = \"LDPP-T-Greedy\"\n",
    "\n",
    "if algorithm != \"Centralized\":\n",
    "    import ray\n",
    "\n",
    "# load simulation parameters\n",
    "params = load_parameters(algorithm)\n",
    "\n",
    "# instantiate the sim object\n",
    "sim = Simulation(params, algorithm)\n",
    "\n",
    "# read (write) the necessary from (to) the roadnet file\n",
    "initialize(sim)\n",
    "\n",
    "# do many rounds of the same simulation\n",
    "for current_round in range(sim.params[\"number_of_rounds\"]):\n",
    "\n",
    "    # instantiate the Metrics class\n",
    "    metrics_recorder = Metrics(sim)\n",
    "\n",
    "    # start the simulation\n",
    "    sim_wrapper(sim, metrics_recorder)\n",
    "\n",
    "    # generate the performance report\n",
    "    metrics_recorder.generate_report(sim, current_round)\n",
    "\n",
    "\n",
    "if algorithm != \"Centralized\":\n",
    "    # terminate ray runtime\n",
    "    ray.shutdown()\n",
    "\n",
    "print(\"\\n\\n##### SIMULATION COMPLETED #####\")"
   ]
  }
 ],
 "metadata": {
  "kernelspec": {
   "display_name": "Python 3 (ipykernel)",
   "language": "python",
   "name": "python3"
  },
  "language_info": {
   "codemirror_mode": {
    "name": "ipython",
    "version": 3
   },
   "file_extension": ".py",
   "mimetype": "text/x-python",
   "name": "python",
   "nbconvert_exporter": "python",
   "pygments_lexer": "ipython3",
   "version": "3.11.5"
  }
 },
 "nbformat": 4,
 "nbformat_minor": 5
}
