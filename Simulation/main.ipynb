{
 "cells": [
  {
   "cell_type": "markdown",
   "id": "00e02ed8-57a6-4462-ae66-fd70e4ceb1e3",
   "metadata": {},
   "source": [
    "# Simulation Environment"
   ]
  },
  {
   "cell_type": "code",
   "execution_count": 1,
   "id": "d9a4dc71-6d5d-4c07-b5ab-ef2ca61d52d0",
   "metadata": {
    "tags": []
   },
   "outputs": [],
   "source": [
    "# add the root to sys.path\n",
    "import sys\n",
    "sys.path.append('/Users/vinz/Documents/ETH/Do4')"
   ]
  },
  {
   "cell_type": "code",
   "execution_count": 2,
   "id": "95de597a-34ac-485a-b18e-6f5c7350651b",
   "metadata": {
    "tags": []
   },
   "outputs": [],
   "source": [
    "from Simulation.helper.Simulation_class import Simulation\n",
    "from Simulation.helper.initialization import initialize\n",
    "from Simulation.helper.simulation_wrapper import sim_wrapper\n",
    "from Simulation.parameter_loader import load_parameters\n",
    "from Simulation.helper.fake_ray_agents import fake_agent\n",
    "from Simulation.metrics import Metrics"
   ]
  },
  {
   "cell_type": "markdown",
   "id": "3560cb67-9ea3-41d2-a127-38f9335b0347",
   "metadata": {},
   "source": [
    "## Simulation parameters"
   ]
  },
  {
   "cell_type": "code",
   "execution_count": 3,
   "id": "7a620b59-5775-4a79-b711-cab15a3f4fb2",
   "metadata": {
    "tags": []
   },
   "outputs": [],
   "source": [
    "def main(algorithm, road_network, ext_dict):\n",
    "    \n",
    "    if algorithm != \"Centralized\":\n",
    "        import ray\n",
    "\n",
    "    # load simulation parameters\n",
    "    params = load_parameters(algorithm, road_network, ext_dict)\n",
    "\n",
    "    # instantiate the sim object\n",
    "    sim = Simulation(params, algorithm)\n",
    "\n",
    "    # read (write) the necessary from (to) the roadnet file\n",
    "    initialize(sim)\n",
    "    \n",
    "    # do some fake computations to warmup ray (consistent computation time)\n",
    "    fake_agent()\n",
    "\n",
    "    # do many rounds of the same simulation\n",
    "    for current_round in range(sim.params[\"number_of_rounds\"]):\n",
    "\n",
    "        # instantiate the Metrics class\n",
    "        metrics_recorder = Metrics(sim)\n",
    "\n",
    "        # start the simulation\n",
    "        sim_wrapper(sim, metrics_recorder)\n",
    "\n",
    "        # generate the performance report\n",
    "        metrics_recorder.generate_report(sim, current_round)\n",
    "        \n",
    "        # reset variables for the next round\n",
    "        sim.reset_variables()\n",
    "\n",
    "\n",
    "    if algorithm != \"Centralized\":\n",
    "        # terminate ray runtime\n",
    "        ray.shutdown()\n",
    "\n",
    "    print(\"\\n\\n##### SIMULATION COMPLETED #####\")"
   ]
  },
  {
   "cell_type": "code",
   "execution_count": 4,
   "id": "40ddadd7-4680-469e-ba72-986c506676c0",
   "metadata": {
    "tags": []
   },
   "outputs": [
    {
     "name": "stderr",
     "output_type": "stream",
     "text": [
      "2024-01-03 13:02:57,971\tINFO worker.py:1664 -- Started a local Ray instance. View the dashboard at \u001b[1m\u001b[32mhttp://127.0.0.1:8265 \u001b[39m\u001b[22m\n"
     ]
    },
    {
     "name": "stdout",
     "output_type": "stream",
     "text": [
      "Number of CPUs in this system: 8\n"
     ]
    },
    {
     "data": {
      "application/vnd.jupyter.widget-view+json": {
       "model_id": "162e1b98ba034217b860fc9efb8fac57",
       "version_major": 2,
       "version_minor": 0
      },
      "text/plain": [
       "Simulation Time Step:   0%|          | 0/1000 [00:00<?, ?it/s]"
      ]
     },
     "metadata": {},
     "output_type": "display_data"
    },
    {
     "data": {
      "application/vnd.jupyter.widget-view+json": {
       "model_id": "cfd65c147d984eeca48c89b13d85ea73",
       "version_major": 2,
       "version_minor": 0
      },
      "text/plain": [
       "Simulation Time Step:   0%|          | 0/1000 [00:00<?, ?it/s]"
      ]
     },
     "metadata": {},
     "output_type": "display_data"
    },
    {
     "name": "stdout",
     "output_type": "stream",
     "text": [
      "\n",
      "\n",
      "##### SIMULATION COMPLETED #####\n"
     ]
    }
   ],
   "source": [
    "import numpy as np\n",
    "from itertools import product\n",
    "\n",
    "delta_and_idle = [(1, 1), (10, 2), (20, 5)]\n",
    "delta_and_idle = [(20, 5)]\n",
    "\n",
    "# used algorithm\n",
    "# MP, CA_MP, Centralized, LDPP + T/GF + ADMM/Greedy\n",
    "algorithm = \"LDPP-T-Greedy\"\n",
    "\n",
    "# Specify which road network to use (dir name)\n",
    "road_network = \"3_4_Fine\"\n",
    "\n",
    "# Generate all possible combinations of parameter values\n",
    "parameter_combinations = product(delta_and_idle)\n",
    "\n",
    "for combination in parameter_combinations:\n",
    "    ext_dict = {\n",
    "        \"delta\": combination[0][0],\n",
    "        \"idle_time\": combination[0][1],\n",
    "    }\n",
    "    main(algorithm, road_network, ext_dict)"
   ]
  }
 ],
 "metadata": {
  "kernelspec": {
   "display_name": "Python 3 (ipykernel)",
   "language": "python",
   "name": "python3"
  },
  "language_info": {
   "codemirror_mode": {
    "name": "ipython",
    "version": 3
   },
   "file_extension": ".py",
   "mimetype": "text/x-python",
   "name": "python",
   "nbconvert_exporter": "python",
   "pygments_lexer": "ipython3",
   "version": "3.8.18"
  }
 },
 "nbformat": 4,
 "nbformat_minor": 5
}
