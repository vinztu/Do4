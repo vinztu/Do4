{
 "cells": [
  {
   "cell_type": "markdown",
   "id": "00e02ed8-57a6-4462-ae66-fd70e4ceb1e3",
   "metadata": {},
   "source": [
    "# Simulation Environment"
   ]
  },
  {
   "cell_type": "code",
   "execution_count": 1,
   "id": "d9a4dc71-6d5d-4c07-b5ab-ef2ca61d52d0",
   "metadata": {
    "tags": []
   },
   "outputs": [],
   "source": [
    "# add the root to sys.path\n",
    "import sys\n",
    "sys.path.append('/Users/vinz/Documents/ETH/Do4')"
   ]
  },
  {
   "cell_type": "code",
   "execution_count": 2,
   "id": "95de597a-34ac-485a-b18e-6f5c7350651b",
   "metadata": {
    "tags": []
   },
   "outputs": [],
   "source": [
    "from helper.Simulation_class import Simulation\n",
    "from helper.initialization import initialize\n",
    "from helper.simulation_wrapper import sim_wrapper\n",
    "from parameter_loader import load_parameters\n",
    "from metrics import Metrics"
   ]
  },
  {
   "cell_type": "markdown",
   "id": "3560cb67-9ea3-41d2-a127-38f9335b0347",
   "metadata": {},
   "source": [
    "## Simulation parameters"
   ]
  },
  {
   "cell_type": "code",
   "execution_count": null,
   "id": "7a620b59-5775-4a79-b711-cab15a3f4fb2",
   "metadata": {
    "tags": []
   },
   "outputs": [
    {
     "name": "stderr",
     "output_type": "stream",
     "text": [
      "Simulation Time Step:  56%|████████████████████████████████████████████▊                                   | 560/1000 [03:48<02:55,  2.51it/s]"
     ]
    }
   ],
   "source": [
    "# used algorithm\n",
    "# MP, CA_MP, Centralized\n",
    "algorithm = \"Centralized\"\n",
    "\n",
    "if algorithm != \"Centralized\":\n",
    "    import ray\n",
    "\n",
    "# load simulation parameters\n",
    "params = load_parameters(algorithm)\n",
    "\n",
    "# instantiate the sim object\n",
    "sim = Simulation(params, algorithm)\n",
    "\n",
    "# read (write) the necessary from (to) the roadnet file\n",
    "initialize(sim)\n",
    "\n",
    "# do many rounds of the same simulation\n",
    "for current_round in range(sim.params[\"number_of_rounds\"]):\n",
    "    \n",
    "    # instantiate the Metrics class\n",
    "    metrics_recorder = Metrics(sim)\n",
    "\n",
    "    # start the simulation\n",
    "    sim_wrapper(sim, metrics_recorder)\n",
    "\n",
    "    # generate the performance report\n",
    "    metrics_recorder.generate_report(sim, current_round)\n",
    "\n",
    "# terminate ray runtime\n",
    "ray.shutdown()\n",
    "\n",
    "print(\"\\n\\n##### SIMULATION COMPLETED #####\")"
   ]
  },
  {
   "cell_type": "code",
   "execution_count": null,
   "id": "a1db3c41-189d-47a5-83b5-e487fe644020",
   "metadata": {},
   "outputs": [],
   "source": []
  }
 ],
 "metadata": {
  "kernelspec": {
   "display_name": "Python 3 (ipykernel)",
   "language": "python",
   "name": "python3"
  },
  "language_info": {
   "codemirror_mode": {
    "name": "ipython",
    "version": 3
   },
   "file_extension": ".py",
   "mimetype": "text/x-python",
   "name": "python",
   "nbconvert_exporter": "python",
   "pygments_lexer": "ipython3",
   "version": "3.8.18"
  }
 },
 "nbformat": 4,
 "nbformat_minor": 5
}
