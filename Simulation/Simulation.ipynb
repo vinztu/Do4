{
 "cells": [
  {
   "cell_type": "markdown",
   "id": "00e02ed8-57a6-4462-ae66-fd70e4ceb1e3",
   "metadata": {},
   "source": [
    "# Simulation Environment"
   ]
  },
  {
   "cell_type": "code",
   "execution_count": 1,
   "id": "d9a4dc71-6d5d-4c07-b5ab-ef2ca61d52d0",
   "metadata": {
    "tags": []
   },
   "outputs": [],
   "source": [
    "# add the root to sys.path\n",
    "import sys\n",
    "sys.path.append('/Users/vinz/Documents/ETH/Publication')"
   ]
  },
  {
   "cell_type": "code",
   "execution_count": 2,
   "id": "95de597a-34ac-485a-b18e-6f5c7350651b",
   "metadata": {
    "tags": []
   },
   "outputs": [],
   "source": [
    "from helper.Simulation_class import Simulation\n",
    "from helper.Initialization import initialize\n",
    "from helper.Simulation_Wrapper import sim_wrapper\n",
    "from metrics import Metrics"
   ]
  },
  {
   "cell_type": "markdown",
   "id": "3560cb67-9ea3-41d2-a127-38f9335b0347",
   "metadata": {},
   "source": [
    "## Simulation parameters"
   ]
  },
  {
   "cell_type": "code",
   "execution_count": 3,
   "id": "7a620b59-5775-4a79-b711-cab15a3f4fb2",
   "metadata": {
    "tags": []
   },
   "outputs": [
    {
     "data": {
      "application/vnd.jupyter.widget-view+json": {
       "model_id": "3bd55ea2ac8e423d817d107cab980bf3",
       "version_major": 2,
       "version_minor": 0
      },
      "text/plain": [
       "Simulation Time Step:   0%|          | 0/1000 [00:00<?, ?it/s]"
      ]
     },
     "metadata": {},
     "output_type": "display_data"
    },
    {
     "data": {
      "application/vnd.jupyter.widget-view+json": {
       "model_id": "f32787482fd64f80af22e4e58ca9528f",
       "version_major": 2,
       "version_minor": 0
      },
      "text/plain": [
       "Simulation Time Step:   0%|          | 0/1000 [00:00<?, ?it/s]"
      ]
     },
     "metadata": {},
     "output_type": "display_data"
    }
   ],
   "source": [
    "### Simulation parameters\n",
    "\n",
    "# phases\n",
    "phases = {0: [0, 7, 2, 3, 6, 10],\n",
    "          1: [1, 8, 2, 3, 6, 10],\n",
    "          2: [4, 11, 2, 3, 6, 10],\n",
    "          3: [5, 9, 2, 3, 6, 10],\n",
    "          4: [0, 1, 2, 3, 6, 10],\n",
    "          5: [7, 8, 2, 3, 6, 10],\n",
    "          6: [9, 11, 2, 3, 6, 10],\n",
    "          7: [4, 5, 2, 3, 6, 10]\n",
    "         }\n",
    "\n",
    "# tl-update interval\n",
    "delta = 20\n",
    "\n",
    "# idle time (idle time <= delta)\n",
    "idle_time = 5\n",
    "\n",
    "# simulation duration\n",
    "sim_duration = 1000\n",
    "\n",
    "# FILENAME\n",
    "dir_name = \"first_try\"\n",
    "filename = \"try\"\n",
    "\n",
    "params = {\n",
    "    \"dir_name\": dir_name,\n",
    "    \"filename\": filename,\n",
    "    \"phases\": phases,\n",
    "    \"delta\": delta,\n",
    "    \"idle_time\": idle_time,\n",
    "    \"sim_duration\": sim_duration,\n",
    "    \"number_of_rounds\": 2,\n",
    "}\n",
    "\n",
    "\n",
    "# applied algorithm\n",
    "algorithm = \"MP\"\n",
    "\n",
    "# config file dir\n",
    "dir_config_file = 'CityFlow/examples/test/config.json'\n",
    "thread_num = 1\n",
    "\n",
    "# instantiate the sim object\n",
    "sim = Simulation(dir_config_file, thread_num, params, algorithm)\n",
    "\n",
    "# read (write) the necessary from (to) the roadnet file\n",
    "initialize(sim)\n",
    "\n",
    "# do many rounds of the same simulation\n",
    "for current_round in range(sim.params[\"number_of_rounds\"]):\n",
    "    \n",
    "    # instantiate the Metrics class\n",
    "    metrics_recorder = Metrics(sim)\n",
    "\n",
    "    # start the simulation\n",
    "    sim_wrapper(sim, metrics_recorder)\n",
    "\n",
    "    # generate the performance report\n",
    "    metrics_recorder.generate_report(sim, current_round)"
   ]
  }
 ],
 "metadata": {
  "kernelspec": {
   "display_name": "Python 3 (ipykernel)",
   "language": "python",
   "name": "python3"
  },
  "language_info": {
   "codemirror_mode": {
    "name": "ipython",
    "version": 3
   },
   "file_extension": ".py",
   "mimetype": "text/x-python",
   "name": "python",
   "nbconvert_exporter": "python",
   "pygments_lexer": "ipython3",
   "version": "3.8.18"
  }
 },
 "nbformat": 4,
 "nbformat_minor": 5
}
