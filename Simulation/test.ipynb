{
 "cells": [
  {
   "cell_type": "code",
   "execution_count": null,
   "id": "30cff4cf-7f3b-4883-8b29-7e9627f1257c",
   "metadata": {},
   "outputs": [],
   "source": [
    "import random\n",
    "\n",
    "def create_chart_file():\n",
    "    # Get user input for chart title, metric names, and number of time steps\n",
    "    chart_title = input(\"Enter chart title: \")\n",
    "    metric_names = input(\"Enter metric names (comma-separated): \").split(',')\n",
    "    num_time_steps = int(input(\"Enter the number of time steps: \"))\n",
    "\n",
    "    # Create chart file content\n",
    "    chart_content = f\"{chart_title}\\nTimeStep {' '.join(metric_names)}\\n\"\n",
    "\n",
    "    for step in range(num_time_steps):\n",
    "        metrics = [str(random.randint(1, 100)) for _ in metric_names]\n",
    "        chart_content += f\"{step} {' '.join(metrics)}\\n\"\n",
    "\n",
    "    # Save chart file\n",
    "    file_name = input(\"Enter file name to save chart (include .txt extension): \")\n",
    "    with open(file_name, 'w') as file:\n",
    "        file.write(chart_content)\n",
    "\n",
    "    print(f\"Chart file '{file_name}' created successfully.\")\n",
    "\n",
    "\n",
    "# Call the function to create and save the chart file\n",
    "create_chart_file()"
   ]
  },
  {
   "cell_type": "code",
   "execution_count": 1,
   "id": "2205d73c-e434-40c8-830b-bc2f945f252e",
   "metadata": {
    "tags": []
   },
   "outputs": [],
   "source": [
    "import cityflow\n",
    "import numpy as np"
   ]
  },
  {
   "cell_type": "markdown",
   "id": "e58007d4-d255-47a3-9a64-35175a18e279",
   "metadata": {
    "tags": []
   },
   "source": [
    "# Installation"
   ]
  },
  {
   "cell_type": "markdown",
   "id": "fb8b7c0f-8a55-4418-a96d-08e44942013a",
   "metadata": {},
   "source": [
    "Go to CityFlow root directory and run 'pip install .'"
   ]
  },
  {
   "cell_type": "markdown",
   "id": "bd65be27-6919-4919-88d4-865cfa20993c",
   "metadata": {},
   "source": [
    "# Run simulation"
   ]
  },
  {
   "cell_type": "code",
   "execution_count": 5,
   "id": "4c3a64ec-6da7-42b7-86e6-7bcdd0f0044a",
   "metadata": {
    "tags": []
   },
   "outputs": [],
   "source": [
    "# start sim engine\n",
    "#config_path = 'CityFlow/examples/2_3/config.json'\n",
    "config_path = 'Simulation_Results/man/config.json'\n",
    "eng = cityflow.Engine(config_path, thread_num=1)\n",
    "eng.reset()"
   ]
  },
  {
   "cell_type": "code",
   "execution_count": 6,
   "id": "133ef484-e6d6-4138-bab9-3aa09f61ffcc",
   "metadata": {
    "tags": []
   },
   "outputs": [],
   "source": [
    "#inter = ['intersection_1_1',\n",
    "# 'intersection_2_1',\n",
    "# 'intersection_3_1',\n",
    "# 'intersection_4_1',\n",
    "# 'intersection_1_2',\n",
    "# 'intersection_2_2',\n",
    "# 'intersection_3_2',\n",
    "# 'intersection_4_2',\n",
    "# 'intersection_1_3',\n",
    "# 'intersection_2_3',\n",
    "# 'intersection_3_3',\n",
    "# 'intersection_4_3']\n",
    "#\n",
    "#for i in inter:\n",
    "#    eng.set_tl_phase(i,3)"
   ]
  },
  {
   "cell_type": "code",
   "execution_count": 7,
   "id": "af953395-7c21-4588-8704-a50e58561190",
   "metadata": {
    "tags": []
   },
   "outputs": [],
   "source": [
    "# sim for 100 time steps\n",
    "n_step = 4000\n",
    "    \n",
    "for i in range(n_step):\n",
    "\n",
    "    eng.next_step()\n",
    "    #vehicles_ids = eng.get_vehicles()\n",
    "    \n",
    "    #for veh in vehicles_ids:\n",
    "    #    f = eng.get_vehicle_info(veh)\n",
    "    #    if len(f) == 5:\n",
    "    #        print(f[\"drivable\"].split(\"_\")[-4:-2])\n",
    "    #        print(veh)\n",
    "    #        print(f)\n",
    "    #        print(i)\n",
    "    #        break\n",
    "    "
   ]
  },
  {
   "cell_type": "code",
   "execution_count": 7,
   "id": "e0834618-c1ca-44b8-accc-031af89875c1",
   "metadata": {
    "tags": []
   },
   "outputs": [
    {
     "name": "stdout",
     "output_type": "stream",
     "text": [
      "{'distance': '20.826500', 'drivable': 'road_30_3_2_1_TO_road_29_3_2_1', 'route': 'road_30_3_2 road_29_3_2 road_28_3_2 road_27_3_2 road_26_3_2 road_25_3_2 road_24_3_2 road_23_3_2 road_22_3_2 road_21_3_2 road_20_3_2 road_19_3_2 road_18_3_2 road_17_3_2 road_16_3_2 road_15_3_2 road_14_3_2 road_13_3_2 road_12_3_2 road_11_3_1 road_11_4_2 road_10_4_2 road_9_4_2 road_8_4_2 road_7_4_2 road_6_4_2 road_5_4_2 road_4_4_2 road_3_4_2 road_2_4_2 road_1_4_2 ', 'running': '1', 'speed': '8.333000'}\n"
     ]
    }
   ],
   "source": [
    "vehicles_ids = eng.get_vehicles()\n",
    "        \n",
    "\n",
    "for i in vehicles_ids:\n",
    "    f = eng.get_vehicle_info(vehicles_ids[1])\n",
    "    if len(f) == 5:\n",
    "        print(f)\n",
    "        break\n",
    "        "
   ]
  },
  {
   "cell_type": "code",
   "execution_count": 5,
   "id": "a1890c9b-9241-42a9-b97d-5b341c50de33",
   "metadata": {
    "tags": []
   },
   "outputs": [
    {
     "data": {
      "text/plain": [
       "['flow_8_22',\n",
       " 'flow_0_5',\n",
       " 'flow_2_26',\n",
       " 'flow_0_14',\n",
       " 'flow_11_11',\n",
       " 'flow_5_33',\n",
       " 'flow_1_11',\n",
       " 'flow_10_16',\n",
       " 'flow_7_26',\n",
       " 'flow_2_8',\n",
       " 'flow_7_1',\n",
       " 'flow_3_30',\n",
       " 'flow_2_4',\n",
       " 'flow_1_33',\n",
       " 'flow_11_0',\n",
       " 'flow_5_28',\n",
       " 'flow_1_25',\n",
       " 'flow_5_32',\n",
       " 'flow_5_17',\n",
       " 'flow_6_23',\n",
       " 'flow_11_23',\n",
       " 'flow_4_12',\n",
       " 'flow_2_15',\n",
       " 'flow_0_4',\n",
       " 'flow_12_0',\n",
       " 'flow_12_1',\n",
       " 'flow_10_7',\n",
       " 'flow_8_6',\n",
       " 'flow_8_2',\n",
       " 'flow_10_6',\n",
       " 'flow_5_18',\n",
       " 'flow_4_4',\n",
       " 'flow_11_25',\n",
       " 'flow_12_16',\n",
       " 'flow_0_31',\n",
       " 'flow_12_5',\n",
       " 'flow_5_12',\n",
       " 'flow_12_4',\n",
       " 'flow_8_11',\n",
       " 'flow_2_16',\n",
       " 'flow_8_10',\n",
       " 'flow_8_30',\n",
       " 'flow_9_6',\n",
       " 'flow_1_18',\n",
       " 'flow_7_29',\n",
       " 'flow_8_23',\n",
       " 'flow_2_23',\n",
       " 'flow_10_3',\n",
       " 'flow_13_32',\n",
       " 'flow_9_19',\n",
       " 'flow_0_32',\n",
       " 'flow_6_7',\n",
       " 'flow_9_13',\n",
       " 'flow_4_6',\n",
       " 'flow_13_8',\n",
       " 'flow_7_25',\n",
       " 'flow_10_24',\n",
       " 'flow_12_26',\n",
       " 'flow_10_18',\n",
       " 'flow_10_10',\n",
       " 'flow_5_13',\n",
       " 'flow_10_22',\n",
       " 'flow_13_29',\n",
       " 'flow_4_20',\n",
       " 'flow_12_6',\n",
       " 'flow_11_6',\n",
       " 'flow_3_32',\n",
       " 'flow_8_29',\n",
       " 'flow_2_6',\n",
       " 'flow_11_20',\n",
       " 'flow_2_10',\n",
       " 'flow_13_20',\n",
       " 'flow_2_2',\n",
       " 'flow_7_4',\n",
       " 'flow_12_12',\n",
       " 'flow_3_2',\n",
       " 'flow_13_25',\n",
       " 'flow_4_28',\n",
       " 'flow_9_24',\n",
       " 'flow_11_15',\n",
       " 'flow_12_17',\n",
       " 'flow_8_26',\n",
       " 'flow_12_25',\n",
       " 'flow_1_5',\n",
       " 'flow_12_15',\n",
       " 'flow_12_9',\n",
       " 'flow_0_26',\n",
       " 'flow_13_7',\n",
       " 'flow_0_2',\n",
       " 'flow_7_5',\n",
       " 'flow_13_17',\n",
       " 'flow_10_8',\n",
       " 'flow_11_24',\n",
       " 'flow_1_7',\n",
       " 'flow_9_4',\n",
       " 'flow_13_11',\n",
       " 'flow_12_29',\n",
       " 'flow_9_17',\n",
       " 'flow_4_32',\n",
       " 'flow_4_15',\n",
       " 'flow_0_8',\n",
       " 'flow_2_5',\n",
       " 'flow_11_32',\n",
       " 'flow_11_3',\n",
       " 'flow_5_9',\n",
       " 'flow_2_28',\n",
       " 'flow_8_24',\n",
       " 'flow_3_3',\n",
       " 'flow_9_30',\n",
       " 'flow_1_12',\n",
       " 'flow_1_22',\n",
       " 'flow_13_22',\n",
       " 'flow_5_10',\n",
       " 'flow_0_12',\n",
       " 'flow_4_30',\n",
       " 'flow_2_3',\n",
       " 'flow_7_14',\n",
       " 'flow_10_1',\n",
       " 'flow_8_20',\n",
       " 'flow_13_12',\n",
       " 'flow_4_26',\n",
       " 'flow_10_0',\n",
       " 'flow_6_8',\n",
       " 'flow_13_10',\n",
       " 'flow_4_13',\n",
       " 'flow_8_16',\n",
       " 'flow_9_7',\n",
       " 'flow_1_26',\n",
       " 'flow_9_5',\n",
       " 'flow_5_21',\n",
       " 'flow_8_18',\n",
       " 'flow_6_18',\n",
       " 'flow_2_32',\n",
       " 'flow_0_21',\n",
       " 'flow_1_27',\n",
       " 'flow_9_10',\n",
       " 'flow_6_22',\n",
       " 'flow_6_33',\n",
       " 'flow_6_5',\n",
       " 'flow_8_7',\n",
       " 'flow_10_30',\n",
       " 'flow_8_13',\n",
       " 'flow_10_31',\n",
       " 'flow_2_18',\n",
       " 'flow_3_31',\n",
       " 'flow_3_15',\n",
       " 'flow_3_14',\n",
       " 'flow_2_24',\n",
       " 'flow_9_11',\n",
       " 'flow_11_22',\n",
       " 'flow_4_7',\n",
       " 'flow_5_19',\n",
       " 'flow_11_10',\n",
       " 'flow_6_13',\n",
       " 'flow_11_5',\n",
       " 'flow_13_5',\n",
       " 'flow_7_17',\n",
       " 'flow_10_27',\n",
       " 'flow_13_26',\n",
       " 'flow_7_0',\n",
       " 'flow_4_23',\n",
       " 'flow_9_23',\n",
       " 'flow_3_28',\n",
       " 'flow_2_12',\n",
       " 'flow_4_17',\n",
       " 'flow_11_17',\n",
       " 'flow_8_21',\n",
       " 'flow_6_14',\n",
       " 'flow_1_28',\n",
       " 'flow_12_27',\n",
       " 'flow_7_18',\n",
       " 'flow_0_7',\n",
       " 'flow_3_27',\n",
       " 'flow_2_25',\n",
       " 'flow_0_27',\n",
       " 'flow_1_24',\n",
       " 'flow_1_21',\n",
       " 'flow_13_0',\n",
       " 'flow_9_8',\n",
       " 'flow_2_19',\n",
       " 'flow_5_4',\n",
       " 'flow_11_12',\n",
       " 'flow_11_30',\n",
       " 'flow_12_22',\n",
       " 'flow_3_13',\n",
       " 'flow_9_22',\n",
       " 'flow_4_9',\n",
       " 'flow_6_1',\n",
       " 'flow_4_19',\n",
       " 'flow_2_13',\n",
       " 'flow_13_21',\n",
       " 'flow_4_18',\n",
       " 'flow_7_27',\n",
       " 'flow_2_17',\n",
       " 'flow_5_30',\n",
       " 'flow_13_16',\n",
       " 'flow_5_14',\n",
       " 'flow_0_13',\n",
       " 'flow_6_12',\n",
       " 'flow_8_0',\n",
       " 'flow_1_3',\n",
       " 'flow_5_23',\n",
       " 'flow_2_27',\n",
       " 'flow_7_21',\n",
       " 'flow_3_29',\n",
       " 'flow_4_14',\n",
       " 'flow_0_20',\n",
       " 'flow_7_3',\n",
       " 'flow_9_3',\n",
       " 'flow_11_28',\n",
       " 'flow_8_31',\n",
       " 'flow_13_13',\n",
       " 'flow_12_30',\n",
       " 'flow_6_21',\n",
       " 'flow_10_2',\n",
       " 'flow_6_20',\n",
       " 'flow_0_10',\n",
       " 'flow_1_20',\n",
       " 'flow_10_21',\n",
       " 'flow_7_28',\n",
       " 'flow_2_7',\n",
       " 'flow_10_29',\n",
       " 'flow_10_13',\n",
       " 'flow_11_19',\n",
       " 'flow_10_12',\n",
       " 'flow_5_8',\n",
       " 'flow_13_1',\n",
       " 'flow_4_33',\n",
       " 'flow_0_6',\n",
       " 'flow_13_4',\n",
       " 'flow_4_10',\n",
       " 'flow_5_25',\n",
       " 'flow_2_11',\n",
       " 'flow_10_32',\n",
       " 'flow_11_8',\n",
       " 'flow_10_19',\n",
       " 'flow_4_27',\n",
       " 'flow_0_3',\n",
       " 'flow_12_3',\n",
       " 'flow_7_16',\n",
       " 'flow_2_21',\n",
       " 'flow_3_24',\n",
       " 'flow_13_14',\n",
       " 'flow_3_8',\n",
       " 'flow_7_15',\n",
       " 'flow_9_9',\n",
       " 'flow_4_31',\n",
       " 'flow_1_2',\n",
       " 'flow_0_28',\n",
       " 'flow_0_30',\n",
       " 'flow_12_18',\n",
       " 'flow_7_20',\n",
       " 'flow_13_19',\n",
       " 'flow_12_7',\n",
       " 'flow_1_32',\n",
       " 'flow_9_16',\n",
       " 'flow_9_33',\n",
       " 'flow_9_14',\n",
       " 'flow_3_12',\n",
       " 'flow_10_33',\n",
       " 'flow_3_25',\n",
       " 'flow_9_26',\n",
       " 'flow_3_4',\n",
       " 'flow_6_3',\n",
       " 'flow_5_29',\n",
       " 'flow_5_26',\n",
       " 'flow_4_5',\n",
       " 'flow_2_14',\n",
       " 'flow_3_19',\n",
       " 'flow_12_33',\n",
       " 'flow_9_12',\n",
       " 'flow_11_2',\n",
       " 'flow_6_24',\n",
       " 'flow_12_21',\n",
       " 'flow_7_30',\n",
       " 'flow_12_32',\n",
       " 'flow_6_32',\n",
       " 'flow_10_25',\n",
       " 'flow_6_31',\n",
       " 'flow_11_31',\n",
       " 'flow_6_30',\n",
       " 'flow_10_11',\n",
       " 'flow_5_5',\n",
       " 'flow_7_7',\n",
       " 'flow_0_17',\n",
       " 'flow_5_2',\n",
       " 'flow_1_23',\n",
       " 'flow_6_15',\n",
       " 'flow_8_4',\n",
       " 'flow_12_11',\n",
       " 'flow_12_14',\n",
       " 'flow_4_29',\n",
       " 'flow_6_6',\n",
       " 'flow_12_13',\n",
       " 'flow_3_7',\n",
       " 'flow_9_18',\n",
       " 'flow_13_27',\n",
       " 'flow_9_27',\n",
       " 'flow_13_2',\n",
       " 'flow_5_7',\n",
       " 'flow_3_20',\n",
       " 'flow_12_8',\n",
       " 'flow_2_31',\n",
       " 'flow_1_8',\n",
       " 'flow_3_22',\n",
       " 'flow_12_28',\n",
       " 'flow_5_27',\n",
       " 'flow_11_4',\n",
       " 'flow_0_19',\n",
       " 'flow_3_9',\n",
       " 'flow_3_17',\n",
       " 'flow_3_33',\n",
       " 'flow_5_16',\n",
       " 'flow_4_8',\n",
       " 'flow_12_24',\n",
       " 'flow_3_11',\n",
       " 'flow_12_2',\n",
       " 'flow_9_25',\n",
       " 'flow_2_9',\n",
       " 'flow_4_2',\n",
       " 'flow_0_11',\n",
       " 'flow_4_3',\n",
       " 'flow_1_10',\n",
       " 'flow_11_33',\n",
       " 'flow_8_33',\n",
       " 'flow_7_8',\n",
       " 'flow_1_14',\n",
       " 'flow_7_9',\n",
       " 'flow_10_26',\n",
       " 'flow_3_5',\n",
       " 'flow_1_13',\n",
       " 'flow_11_14',\n",
       " 'flow_3_21',\n",
       " 'flow_8_19',\n",
       " 'flow_7_22',\n",
       " 'flow_2_22',\n",
       " 'flow_5_3',\n",
       " 'flow_8_12',\n",
       " 'flow_10_20',\n",
       " 'flow_1_31',\n",
       " 'flow_1_30',\n",
       " 'flow_0_15',\n",
       " 'flow_12_20',\n",
       " 'flow_11_21',\n",
       " 'flow_4_24',\n",
       " 'flow_8_9',\n",
       " 'flow_0_16',\n",
       " 'flow_9_15',\n",
       " 'flow_3_10',\n",
       " 'flow_9_1',\n",
       " 'flow_13_33',\n",
       " 'flow_1_4',\n",
       " 'flow_5_15',\n",
       " 'flow_12_31',\n",
       " 'flow_12_23',\n",
       " 'flow_3_16',\n",
       " 'flow_12_10',\n",
       " 'flow_7_23',\n",
       " 'flow_7_11',\n",
       " 'flow_8_25',\n",
       " 'flow_13_3',\n",
       " 'flow_13_15',\n",
       " 'flow_9_20',\n",
       " 'flow_10_4',\n",
       " 'flow_3_6',\n",
       " 'flow_7_12',\n",
       " 'flow_7_13',\n",
       " 'flow_9_21',\n",
       " 'flow_8_5',\n",
       " 'flow_7_6',\n",
       " 'flow_8_27',\n",
       " 'flow_1_6',\n",
       " 'flow_8_15',\n",
       " 'flow_6_28',\n",
       " 'flow_5_22',\n",
       " 'flow_11_16',\n",
       " 'flow_11_9',\n",
       " 'flow_0_9',\n",
       " 'flow_6_2',\n",
       " 'flow_6_4',\n",
       " 'flow_6_10',\n",
       " 'flow_9_32',\n",
       " 'flow_7_19',\n",
       " 'flow_13_28',\n",
       " 'flow_8_14',\n",
       " 'flow_0_24',\n",
       " 'flow_3_26',\n",
       " 'flow_2_29',\n",
       " 'flow_13_24',\n",
       " 'flow_6_25',\n",
       " 'flow_6_29',\n",
       " 'flow_8_8',\n",
       " 'flow_11_13',\n",
       " 'flow_7_24',\n",
       " 'flow_4_21',\n",
       " 'flow_11_29',\n",
       " 'flow_8_28',\n",
       " 'flow_7_2',\n",
       " 'flow_2_33',\n",
       " 'flow_0_29',\n",
       " 'flow_4_16',\n",
       " 'flow_0_25',\n",
       " 'flow_7_33',\n",
       " 'flow_1_16',\n",
       " 'flow_5_11',\n",
       " 'flow_0_22',\n",
       " 'flow_13_9',\n",
       " 'flow_10_28',\n",
       " 'flow_3_23',\n",
       " 'flow_9_0',\n",
       " 'flow_7_10',\n",
       " 'flow_6_27',\n",
       " 'flow_1_17',\n",
       " 'flow_10_5',\n",
       " 'flow_9_29',\n",
       " 'flow_1_9',\n",
       " 'flow_11_18',\n",
       " 'flow_10_17',\n",
       " 'flow_13_30',\n",
       " 'flow_1_19',\n",
       " 'flow_13_31',\n",
       " 'flow_0_33',\n",
       " 'flow_7_32',\n",
       " 'flow_8_32',\n",
       " 'flow_4_25',\n",
       " 'flow_10_23',\n",
       " 'flow_11_7',\n",
       " 'flow_10_14',\n",
       " 'flow_2_20',\n",
       " 'flow_11_26',\n",
       " 'flow_8_1',\n",
       " 'flow_0_23',\n",
       " 'flow_1_15',\n",
       " 'flow_9_31',\n",
       " 'flow_13_18',\n",
       " 'flow_4_11',\n",
       " 'flow_5_6',\n",
       " 'flow_12_19',\n",
       " 'flow_13_6',\n",
       " 'flow_2_30',\n",
       " 'flow_10_9',\n",
       " 'flow_6_0',\n",
       " 'flow_9_2',\n",
       " 'flow_6_26',\n",
       " 'flow_5_24',\n",
       " 'flow_11_27',\n",
       " 'flow_4_22',\n",
       " 'flow_6_19',\n",
       " 'flow_13_23',\n",
       " 'flow_10_15',\n",
       " 'flow_11_1',\n",
       " 'flow_1_29',\n",
       " 'flow_6_17',\n",
       " 'flow_7_31',\n",
       " 'flow_3_18',\n",
       " 'flow_0_18',\n",
       " 'flow_8_17',\n",
       " 'flow_6_16',\n",
       " 'flow_6_11',\n",
       " 'flow_8_3',\n",
       " 'flow_5_31',\n",
       " 'flow_9_28',\n",
       " 'flow_5_20',\n",
       " 'flow_6_9']"
      ]
     },
     "execution_count": 5,
     "metadata": {},
     "output_type": "execute_result"
    }
   ],
   "source": [
    "vehicles_ids"
   ]
  },
  {
   "cell_type": "code",
   "execution_count": null,
   "id": "21de83ee-5475-43ae-8224-5f4e80a03030",
   "metadata": {},
   "outputs": [],
   "source": [
    "def PERFORMANCE_TRAVEL_TIME_1(self):\n",
    "        \"\"\"\n",
    "        Calculates the average travel time per car. Compared to the Travel time 2, it does not include\n",
    "        cars in the buffer that did not enter the network yet.\n",
    "        \"\"\"\n",
    "        \n",
    "        travel_time_cars = {}\n",
    "        \n",
    "        def new_value(vehicles_id):\n",
    "            \n",
    "            # convert to a set of speed\n",
    "            vehicles_set = set(vehicles_id)\n",
    "\n",
    "            # if a new vehicle arrives, put them into the dict\n",
    "            temp = {flow: [i, i] for flow in vehicles_set if flow not in travel_time_cars}\n",
    "\n",
    "            # if a vehicle is not anymore in the list, it has left the network\n",
    "            for flow in travel_time_cars:\n",
    "                if flow in vehicles_set:\n",
    "                    travel_time_cars[flow][1] = i\n",
    "\n",
    "            # add it to the dict     \n",
    "            travel_time_cars.update(temp)\n",
    "                    \n",
    "\n",
    "        def get_average_travel_time():\n",
    "                \n",
    "            return sum(travel_end - travel_start for travel_start, travel_end in travel_time_cars.values()) / len(travel_time_cars)\n",
    "        \n",
    "        new_value.get_average_travel_time = get_average_travel_time\n",
    "        \n",
    "        return new_value"
   ]
  },
  {
   "cell_type": "code",
   "execution_count": null,
   "id": "e77da817-a647-4208-a11b-be7d6a1df332",
   "metadata": {},
   "outputs": [],
   "source": [
    "f = {3:2, 4:5, 8:9}\n",
    "\n",
    "g = {3:5, 2:1, 8:\"jk\"}\n",
    "\n",
    "print(f)\n",
    "f.update(g)\n",
    "\n",
    "f"
   ]
  },
  {
   "cell_type": "markdown",
   "id": "c2a99699-c667-4c9c-bd2c-c5a57ee117bd",
   "metadata": {},
   "source": [
    "There will be replay files saved in the diretory specified in the config jason file. To visualize the simulation, open frontend/index.html and follow the instruction of replay. "
   ]
  },
  {
   "cell_type": "markdown",
   "id": "9dd5adf4-6442-417c-aeba-d489ba354e9e",
   "metadata": {},
   "source": [
    "# Data access API"
   ]
  },
  {
   "cell_type": "markdown",
   "id": "defbaff0-08c5-4f80-b19c-1565dcf4b521",
   "metadata": {},
   "source": [
    "## waiting vehicle number"
   ]
  },
  {
   "cell_type": "code",
   "execution_count": null,
   "id": "c09e7372-ab73-4e31-998b-d8a9833a4c2e",
   "metadata": {},
   "outputs": [],
   "source": [
    "# waiting vehicles on each lane at current step\n",
    "wait_veh = eng.get_lane_waiting_vehicle_count()"
   ]
  },
  {
   "cell_type": "code",
   "execution_count": null,
   "id": "e1ad76f0-00d8-4493-b731-d5b1e3886c7d",
   "metadata": {},
   "outputs": [],
   "source": [
    "wait_veh.keys()"
   ]
  },
  {
   "cell_type": "code",
   "execution_count": null,
   "id": "8961f14b-6815-4b72-abf1-d20a9f6c974b",
   "metadata": {},
   "outputs": [],
   "source": [
    "wait_veh['road_0_1_0_0']  # waiting vehicle number on intersection (0, 1), road 0, lane 0"
   ]
  },
  {
   "cell_type": "markdown",
   "id": "51556846-1a98-489b-be97-e4d3ccfba9ba",
   "metadata": {},
   "source": [
    "## vehicle info"
   ]
  },
  {
   "cell_type": "code",
   "execution_count": null,
   "id": "232bd675-84cd-4293-8dba-c3c772d37f35",
   "metadata": {},
   "outputs": [],
   "source": [
    "vehs = eng.get_vehicles(include_waiting=True)"
   ]
  },
  {
   "cell_type": "code",
   "execution_count": null,
   "id": "d8ffecb4-5a5b-4276-a436-e51767991c87",
   "metadata": {},
   "outputs": [],
   "source": [
    "vehs[:10]  "
   ]
  },
  {
   "cell_type": "code",
   "execution_count": null,
   "id": "87eea6f0-8a85-431d-964d-3a65eca04b68",
   "metadata": {},
   "outputs": [],
   "source": [
    "veh_i = eng.get_vehicle_info(vehs[0]) # route 11, # departure 19\n",
    "veh_i"
   ]
  },
  {
   "cell_type": "markdown",
   "id": "04231155-2572-4011-93ff-cb429390a142",
   "metadata": {},
   "source": [
    "## vehicle speed"
   ]
  },
  {
   "cell_type": "code",
   "execution_count": null,
   "id": "1ed529b3-af3d-42aa-96bf-9a35e66c137c",
   "metadata": {},
   "outputs": [],
   "source": [
    "veh_speed = eng.get_vehicle_speed()"
   ]
  },
  {
   "cell_type": "code",
   "execution_count": null,
   "id": "505f9d02-5071-43cf-ac39-30c58aea4e03",
   "metadata": {},
   "outputs": [],
   "source": [
    "veh_speed.keys()"
   ]
  },
  {
   "cell_type": "code",
   "execution_count": null,
   "id": "390bea3c-fa3e-490a-ba82-17962506eaa2",
   "metadata": {},
   "outputs": [],
   "source": [
    "veh_speed['flow_0_10']"
   ]
  },
  {
   "cell_type": "markdown",
   "id": "138df173-e561-4fcf-9086-ba16938f887b",
   "metadata": {},
   "source": [
    "# Control API"
   ]
  },
  {
   "cell_type": "code",
   "execution_count": null,
   "id": "a335b602-ea64-4545-a07d-86511b8c03bd",
   "metadata": {},
   "outputs": [],
   "source": [
    "# start sim engine with RL and lane changing activated \n",
    "config_path = 'CityFlow/examples/config_rl.json'\n",
    "eng = cityflow.Engine(config_path, thread_num=1)"
   ]
  },
  {
   "cell_type": "code",
   "execution_count": null,
   "id": "db9bc5a6-f2b2-407b-8ae1-5845b8b9de3a",
   "metadata": {},
   "outputs": [],
   "source": [
    "# sim for 100 time steps\n",
    "n_step = 100\n",
    "for i in range(n_step):\n",
    "    eng.next_step()"
   ]
  },
  {
   "cell_type": "markdown",
   "id": "57e4f8c0-e861-4b90-a878-ffd23b08631f",
   "metadata": {},
   "source": [
    "# set traffic light phase"
   ]
  },
  {
   "cell_type": "code",
   "execution_count": null,
   "id": "a4c29a07-16e7-4c9d-af69-a35d0fe22c92",
   "metadata": {},
   "outputs": [],
   "source": [
    "# Note: \n",
    "# - there is no API to get current phase\n",
    "# - the constraints of phase control are not integrated \n",
    "\n",
    "intersection_id = 'intersection_1_1'  # non-virtual intersection (source/sink of vehicles)\n",
    "phase_id = 0  # lightphases defined in roadnet.json\n",
    "eng.set_tl_phase(intersection_id, phase_id)"
   ]
  },
  {
   "cell_type": "markdown",
   "id": "d843d8d9-2b0f-4e5e-8e05-0b51cf92baee",
   "metadata": {},
   "source": [
    "# set vehicle speed"
   ]
  },
  {
   "cell_type": "code",
   "execution_count": null,
   "id": "f717a432-3b4d-4156-8a6d-ed26ea13e5fc",
   "metadata": {},
   "outputs": [],
   "source": [
    "veh_id = eng.get_vehicles()[2]\n",
    "veh_id"
   ]
  },
  {
   "cell_type": "code",
   "execution_count": null,
   "id": "8c0427a6-1743-4e72-8c55-045606cd9b76",
   "metadata": {},
   "outputs": [],
   "source": [
    "info = eng.get_vehicle_info(veh_id)\n",
    "info['speed']"
   ]
  },
  {
   "cell_type": "code",
   "execution_count": null,
   "id": "4e3a6385-651f-4a68-98d1-446e9507e2e8",
   "metadata": {},
   "outputs": [],
   "source": [
    "new_speed = 16.65\n",
    "eng.set_vehicle_speed(veh_id, new_speed)"
   ]
  },
  {
   "cell_type": "code",
   "execution_count": null,
   "id": "1f6938ee-b600-4b3c-b9a2-e9360d33e141",
   "metadata": {},
   "outputs": [],
   "source": [
    "eng.next_step()  # speed is updated in next sim step\n",
    "info = eng.get_vehicle_info(veh_id)\n",
    "info['speed']"
   ]
  },
  {
   "cell_type": "markdown",
   "id": "6e448b3c-7713-4a1c-a1ab-429802fcb4dc",
   "metadata": {},
   "source": [
    "# set vehicle route"
   ]
  },
  {
   "cell_type": "code",
   "execution_count": null,
   "id": "391f2f0e-a77c-44b6-83aa-a336839abb0c",
   "metadata": {},
   "outputs": [],
   "source": [
    "veh_id = eng.get_vehicles()[1]\n",
    "info = eng.get_vehicle_info(veh_id)\n",
    "info"
   ]
  },
  {
   "cell_type": "code",
   "execution_count": null,
   "id": "9f8ad1f1-e084-462a-b7f0-69743dd23c7d",
   "metadata": {},
   "outputs": [],
   "source": [
    "# Note: there is some constraint on route change (seem to be very restrictive)\n",
    "new_route = ['road_0_1_0', 'road_1_1_3']  # list of roads excluding current one\n",
    "eng.set_vehicle_route(veh_id, new_route)"
   ]
  },
  {
   "cell_type": "code",
   "execution_count": null,
   "id": "04769560-e86b-4156-9912-e2a879bcadf9",
   "metadata": {},
   "outputs": [],
   "source": [
    "new_route = ['road_1_1_0']  # list of roads excluding current one\n",
    "eng.set_vehicle_route(veh_id, new_route)"
   ]
  },
  {
   "cell_type": "markdown",
   "id": "7a8acb59-80ab-4c7a-983c-5b6ac0ac13b1",
   "metadata": {},
   "source": [
    "# Generate road network"
   ]
  },
  {
   "cell_type": "code",
   "execution_count": null,
   "id": "9ee71029-c550-432d-b92f-921b51093e26",
   "metadata": {},
   "outputs": [],
   "source": [
    "# grid network with three rows and four columns\n",
    "# save in examples/r3_c4/\n",
    "%run CityFlow/tools/generator/generate_grid_scenario.py 3 4 --dir ./CityFlow/examples/r3_c4"
   ]
  },
  {
   "cell_type": "code",
   "execution_count": null,
   "id": "1f455390-4c18-4626-9c7a-ae234ac31b20",
   "metadata": {
    "tags": []
   },
   "outputs": [],
   "source": [
    "# run sim\n",
    "config_path = 'CityFlow/examples/r3_c4/config_3_4.json'\n",
    "eng = cityflow.Engine(config_path, thread_num=1)\n",
    "\n",
    "n_step = 100\n",
    "for i in range(n_step):\n",
    "    eng.next_step()"
   ]
  }
 ],
 "metadata": {
  "kernelspec": {
   "display_name": "Python 3 (ipykernel)",
   "language": "python",
   "name": "python3"
  },
  "language_info": {
   "codemirror_mode": {
    "name": "ipython",
    "version": 3
   },
   "file_extension": ".py",
   "mimetype": "text/x-python",
   "name": "python",
   "nbconvert_exporter": "python",
   "pygments_lexer": "ipython3",
   "version": "3.8.18"
  }
 },
 "nbformat": 4,
 "nbformat_minor": 5
}
